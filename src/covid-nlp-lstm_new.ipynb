{
 "cells": [
  {
   "cell_type": "markdown",
   "metadata": {
    "id": "ZzGNc2r_D1W8"
   },
   "source": [
    "Task : Coronavirus tweets NLP - Text Classification <br>\n",
    "URL : https://www.kaggle.com/datatattle/covid-19-nlp-text-classification <br>\n",
    "Author : Siddarthan <br>\n",
    "Description : This notebook contains the pipeline to preprocess covid NLP data, create and train LSTM based neural network to classify the data. <br>\n",
    "Created on : 15-11-2021 <br>\n",
    "Updated on : 16-11-2021 <br>\n"
   ]
  },
  {
   "cell_type": "code",
   "execution_count": 1,
   "metadata": {
    "execution": {
     "iopub.execute_input": "2021-11-16T03:33:01.505786Z",
     "iopub.status.busy": "2021-11-16T03:33:01.505412Z",
     "iopub.status.idle": "2021-11-16T03:33:04.206744Z",
     "shell.execute_reply": "2021-11-16T03:33:04.205997Z",
     "shell.execute_reply.started": "2021-11-16T03:33:01.505697Z"
    },
    "id": "3c8IHLAaB50K"
   },
   "outputs": [],
   "source": [
    "# Import required packages\n",
    "\n",
    "import pandas as pd\n",
    "import numpy as np\n",
    "import torch\n",
    "import nltk\n",
    "import re\n",
    "\n",
    "import matplotlib.pyplot as plt\n",
    "import seaborn as sns\n",
    "\n",
    "from tqdm import tqdm\n",
    "from time import time\n",
    "from datetime import timedelta\n",
    "\n",
    "from torch import nn\n",
    "\n",
    "from nltk import word_tokenize\n",
    "from nltk.corpus import stopwords\n",
    "from nltk.stem import WordNetLemmatizer\n",
    "\n",
    "from sklearn.metrics import accuracy_score, f1_score, classification_report, confusion_matrix\n",
    "from sklearn.utils.class_weight import compute_class_weight\n"
   ]
  },
  {
   "cell_type": "code",
   "execution_count": 2,
   "metadata": {
    "execution": {
     "iopub.execute_input": "2021-11-16T03:33:04.208712Z",
     "iopub.status.busy": "2021-11-16T03:33:04.208464Z",
     "iopub.status.idle": "2021-11-16T03:33:04.215359Z",
     "shell.execute_reply": "2021-11-16T03:33:04.213730Z",
     "shell.execute_reply.started": "2021-11-16T03:33:04.208675Z"
    },
    "id": "2YfOcnIGC1gg"
   },
   "outputs": [],
   "source": [
    "# Path to csv files\n",
    "\n",
    "train_file = \"../input/covid-19-nlp-text-classification/Corona_NLP_train.csv\"\n",
    "test_file = \"../input/covid-19-nlp-text-classification/Corona_NLP_test.csv\""
   ]
  },
  {
   "cell_type": "code",
   "execution_count": 3,
   "metadata": {
    "execution": {
     "iopub.execute_input": "2021-11-16T03:33:04.218345Z",
     "iopub.status.busy": "2021-11-16T03:33:04.217812Z",
     "iopub.status.idle": "2021-11-16T03:33:04.268992Z",
     "shell.execute_reply": "2021-11-16T03:33:04.267932Z",
     "shell.execute_reply.started": "2021-11-16T03:33:04.218309Z"
    },
    "id": "NkJU6xy7Ohf4",
    "outputId": "dc270f02-7467-4b78-b91f-61cfa0f4e600"
   },
   "outputs": [
    {
     "name": "stdout",
     "output_type": "stream",
     "text": [
      "cuda:0\n"
     ]
    }
   ],
   "source": [
    "# Select device gpu/cpu\n",
    "\n",
    "device = torch.device(\"cuda:0\" if torch.cuda.is_available() else \"cpu\")\n",
    "print(device)"
   ]
  },
  {
   "cell_type": "markdown",
   "metadata": {
    "id": "TlEZRCI1E_SC"
   },
   "source": [
    "# Data Exploration\n"
   ]
  },
  {
   "cell_type": "code",
   "execution_count": 4,
   "metadata": {
    "execution": {
     "iopub.execute_input": "2021-11-16T03:33:04.272266Z",
     "iopub.status.busy": "2021-11-16T03:33:04.271520Z",
     "iopub.status.idle": "2021-11-16T03:33:04.579514Z",
     "shell.execute_reply": "2021-11-16T03:33:04.578763Z",
     "shell.execute_reply.started": "2021-11-16T03:33:04.272224Z"
    },
    "id": "iBTX_QyACh9W",
    "outputId": "895e41fd-75a0-4209-ab91-ebf4b35b05b9"
   },
   "outputs": [],
   "source": [
    "# Read the csv files\n",
    "train_data = pd.read_csv(train_file, encoding='latin1')\n",
    "test_data = pd.read_csv(test_file, encoding='latin1')"
   ]
  },
  {
   "cell_type": "code",
   "execution_count": 5,
   "metadata": {
    "execution": {
     "iopub.execute_input": "2021-11-16T03:33:04.583404Z",
     "iopub.status.busy": "2021-11-16T03:33:04.582808Z",
     "iopub.status.idle": "2021-11-16T03:33:04.605293Z",
     "shell.execute_reply": "2021-11-16T03:33:04.604650Z",
     "shell.execute_reply.started": "2021-11-16T03:33:04.583362Z"
    },
    "id": "Qx11Me2FCxPV"
   },
   "outputs": [
    {
     "data": {
      "text/html": [
       "<div>\n",
       "<style scoped>\n",
       "    .dataframe tbody tr th:only-of-type {\n",
       "        vertical-align: middle;\n",
       "    }\n",
       "\n",
       "    .dataframe tbody tr th {\n",
       "        vertical-align: top;\n",
       "    }\n",
       "\n",
       "    .dataframe thead th {\n",
       "        text-align: right;\n",
       "    }\n",
       "</style>\n",
       "<table border=\"1\" class=\"dataframe\">\n",
       "  <thead>\n",
       "    <tr style=\"text-align: right;\">\n",
       "      <th></th>\n",
       "      <th>UserName</th>\n",
       "      <th>ScreenName</th>\n",
       "      <th>Location</th>\n",
       "      <th>TweetAt</th>\n",
       "      <th>OriginalTweet</th>\n",
       "      <th>Sentiment</th>\n",
       "    </tr>\n",
       "  </thead>\n",
       "  <tbody>\n",
       "    <tr>\n",
       "      <th>0</th>\n",
       "      <td>3799</td>\n",
       "      <td>48751</td>\n",
       "      <td>London</td>\n",
       "      <td>16-03-2020</td>\n",
       "      <td>@MeNyrbie @Phil_Gahan @Chrisitv https://t.co/i...</td>\n",
       "      <td>Neutral</td>\n",
       "    </tr>\n",
       "    <tr>\n",
       "      <th>1</th>\n",
       "      <td>3800</td>\n",
       "      <td>48752</td>\n",
       "      <td>UK</td>\n",
       "      <td>16-03-2020</td>\n",
       "      <td>advice Talk to your neighbours family to excha...</td>\n",
       "      <td>Positive</td>\n",
       "    </tr>\n",
       "    <tr>\n",
       "      <th>2</th>\n",
       "      <td>3801</td>\n",
       "      <td>48753</td>\n",
       "      <td>Vagabonds</td>\n",
       "      <td>16-03-2020</td>\n",
       "      <td>Coronavirus Australia: Woolworths to give elde...</td>\n",
       "      <td>Positive</td>\n",
       "    </tr>\n",
       "    <tr>\n",
       "      <th>3</th>\n",
       "      <td>3802</td>\n",
       "      <td>48754</td>\n",
       "      <td>NaN</td>\n",
       "      <td>16-03-2020</td>\n",
       "      <td>My food stock is not the only one which is emp...</td>\n",
       "      <td>Positive</td>\n",
       "    </tr>\n",
       "    <tr>\n",
       "      <th>4</th>\n",
       "      <td>3803</td>\n",
       "      <td>48755</td>\n",
       "      <td>NaN</td>\n",
       "      <td>16-03-2020</td>\n",
       "      <td>Me, ready to go at supermarket during the #COV...</td>\n",
       "      <td>Extremely Negative</td>\n",
       "    </tr>\n",
       "  </tbody>\n",
       "</table>\n",
       "</div>"
      ],
      "text/plain": [
       "   UserName  ScreenName   Location     TweetAt  \\\n",
       "0      3799       48751     London  16-03-2020   \n",
       "1      3800       48752         UK  16-03-2020   \n",
       "2      3801       48753  Vagabonds  16-03-2020   \n",
       "3      3802       48754        NaN  16-03-2020   \n",
       "4      3803       48755        NaN  16-03-2020   \n",
       "\n",
       "                                       OriginalTweet           Sentiment  \n",
       "0  @MeNyrbie @Phil_Gahan @Chrisitv https://t.co/i...             Neutral  \n",
       "1  advice Talk to your neighbours family to excha...            Positive  \n",
       "2  Coronavirus Australia: Woolworths to give elde...            Positive  \n",
       "3  My food stock is not the only one which is emp...            Positive  \n",
       "4  Me, ready to go at supermarket during the #COV...  Extremely Negative  "
      ]
     },
     "execution_count": 5,
     "metadata": {},
     "output_type": "execute_result"
    }
   ],
   "source": [
    "train_data.head()"
   ]
  },
  {
   "cell_type": "code",
   "execution_count": 6,
   "metadata": {
    "execution": {
     "iopub.execute_input": "2021-11-16T03:33:04.608199Z",
     "iopub.status.busy": "2021-11-16T03:33:04.607546Z",
     "iopub.status.idle": "2021-11-16T03:33:04.620025Z",
     "shell.execute_reply": "2021-11-16T03:33:04.619183Z",
     "shell.execute_reply.started": "2021-11-16T03:33:04.608160Z"
    },
    "id": "7cTqoCYXDSqn"
   },
   "outputs": [
    {
     "data": {
      "text/html": [
       "<div>\n",
       "<style scoped>\n",
       "    .dataframe tbody tr th:only-of-type {\n",
       "        vertical-align: middle;\n",
       "    }\n",
       "\n",
       "    .dataframe tbody tr th {\n",
       "        vertical-align: top;\n",
       "    }\n",
       "\n",
       "    .dataframe thead th {\n",
       "        text-align: right;\n",
       "    }\n",
       "</style>\n",
       "<table border=\"1\" class=\"dataframe\">\n",
       "  <thead>\n",
       "    <tr style=\"text-align: right;\">\n",
       "      <th></th>\n",
       "      <th>UserName</th>\n",
       "      <th>ScreenName</th>\n",
       "      <th>Location</th>\n",
       "      <th>TweetAt</th>\n",
       "      <th>OriginalTweet</th>\n",
       "      <th>Sentiment</th>\n",
       "    </tr>\n",
       "  </thead>\n",
       "  <tbody>\n",
       "    <tr>\n",
       "      <th>0</th>\n",
       "      <td>1</td>\n",
       "      <td>44953</td>\n",
       "      <td>NYC</td>\n",
       "      <td>02-03-2020</td>\n",
       "      <td>TRENDING: New Yorkers encounter empty supermar...</td>\n",
       "      <td>Extremely Negative</td>\n",
       "    </tr>\n",
       "    <tr>\n",
       "      <th>1</th>\n",
       "      <td>2</td>\n",
       "      <td>44954</td>\n",
       "      <td>Seattle, WA</td>\n",
       "      <td>02-03-2020</td>\n",
       "      <td>When I couldn't find hand sanitizer at Fred Me...</td>\n",
       "      <td>Positive</td>\n",
       "    </tr>\n",
       "    <tr>\n",
       "      <th>2</th>\n",
       "      <td>3</td>\n",
       "      <td>44955</td>\n",
       "      <td>NaN</td>\n",
       "      <td>02-03-2020</td>\n",
       "      <td>Find out how you can protect yourself and love...</td>\n",
       "      <td>Extremely Positive</td>\n",
       "    </tr>\n",
       "    <tr>\n",
       "      <th>3</th>\n",
       "      <td>4</td>\n",
       "      <td>44956</td>\n",
       "      <td>Chicagoland</td>\n",
       "      <td>02-03-2020</td>\n",
       "      <td>#Panic buying hits #NewYork City as anxious sh...</td>\n",
       "      <td>Negative</td>\n",
       "    </tr>\n",
       "    <tr>\n",
       "      <th>4</th>\n",
       "      <td>5</td>\n",
       "      <td>44957</td>\n",
       "      <td>Melbourne, Victoria</td>\n",
       "      <td>03-03-2020</td>\n",
       "      <td>#toiletpaper #dunnypaper #coronavirus #coronav...</td>\n",
       "      <td>Neutral</td>\n",
       "    </tr>\n",
       "  </tbody>\n",
       "</table>\n",
       "</div>"
      ],
      "text/plain": [
       "   UserName  ScreenName             Location     TweetAt  \\\n",
       "0         1       44953                  NYC  02-03-2020   \n",
       "1         2       44954          Seattle, WA  02-03-2020   \n",
       "2         3       44955                  NaN  02-03-2020   \n",
       "3         4       44956          Chicagoland  02-03-2020   \n",
       "4         5       44957  Melbourne, Victoria  03-03-2020   \n",
       "\n",
       "                                       OriginalTweet           Sentiment  \n",
       "0  TRENDING: New Yorkers encounter empty supermar...  Extremely Negative  \n",
       "1  When I couldn't find hand sanitizer at Fred Me...            Positive  \n",
       "2  Find out how you can protect yourself and love...  Extremely Positive  \n",
       "3  #Panic buying hits #NewYork City as anxious sh...            Negative  \n",
       "4  #toiletpaper #dunnypaper #coronavirus #coronav...             Neutral  "
      ]
     },
     "execution_count": 6,
     "metadata": {},
     "output_type": "execute_result"
    }
   ],
   "source": [
    "test_data.head()"
   ]
  },
  {
   "cell_type": "code",
   "execution_count": 7,
   "metadata": {
    "execution": {
     "iopub.execute_input": "2021-11-16T03:33:04.621741Z",
     "iopub.status.busy": "2021-11-16T03:33:04.621367Z",
     "iopub.status.idle": "2021-11-16T03:33:04.992221Z",
     "shell.execute_reply": "2021-11-16T03:33:04.991549Z",
     "shell.execute_reply.started": "2021-11-16T03:33:04.621704Z"
    },
    "id": "i7yyEc_-R4ZD"
   },
   "outputs": [
    {
     "data": {
      "image/png": "[encoded data removed]",
      "text/plain": [
       "<Figure size 1440x360 with 1 Axes>"
      ]
     },
     "metadata": {
      "needs_background": "light"
     },
     "output_type": "display_data"
    }
   ],
   "source": [
    "# Top locations of the tweets\n",
    "location = train_data['Location'].value_counts().nlargest(20)\n",
    "plt.rcParams[\"figure.figsize\"] = (20,5)\n",
    "plt.bar(location.index, location.values)\n",
    "plt.xticks(location.index, rotation='vertical')\n",
    "for idx, val in enumerate(location):\n",
    "    plt.text(idx-0.2, val+5, str(val))\n",
    "plt.show()"
   ]
  },
  {
   "cell_type": "code",
   "execution_count": 8,
   "metadata": {
    "execution": {
     "iopub.execute_input": "2021-11-16T03:33:04.993907Z",
     "iopub.status.busy": "2021-11-16T03:33:04.993479Z",
     "iopub.status.idle": "2021-11-16T03:33:05.162927Z",
     "shell.execute_reply": "2021-11-16T03:33:05.162149Z",
     "shell.execute_reply.started": "2021-11-16T03:33:04.993854Z"
    },
    "id": "3Nx2THsVR4jN"
   },
   "outputs": [
    {
     "data": {
      "image/png": "[encoded data removed]",
      "text/plain": [
       "<Figure size 1440x360 with 1 Axes>"
      ]
     },
     "metadata": {},
     "output_type": "display_data"
    }
   ],
   "source": [
    "# Tweets originated from London (Top location)\n",
    "extreme_positive_tweets = len(train_data[(train_data[\"Location\"] == \"London\") & (train_data[\"Sentiment\"] == \"Extremely Positive\")])\n",
    "positive_tweets = len(train_data[(train_data[\"Location\"] == \"London\") & (train_data[\"Sentiment\"] == \"Positive\")])\n",
    "neutral_tweets = len(train_data[(train_data[\"Location\"] == \"London\") & (train_data[\"Sentiment\"] == \"Neutral\")])\n",
    "negative_tweets = len(train_data[(train_data[\"Location\"] == \"London\") & (train_data[\"Sentiment\"] == \"Negative\")])\n",
    "extreme_negative_tweets = len(train_data[(train_data[\"Location\"] == \"London\") & (train_data[\"Sentiment\"] == \"Extremely Negative\")])\n",
    "\n",
    "labels = [\"extremely positive\", \"positive\", \"neutral\", \"negative\", \"extremely negative\"]\n",
    "plt.pie([extreme_positive_tweets, positive_tweets, neutral_tweets, negative_tweets, extreme_negative_tweets],\n",
    "        labels=labels, autopct='%1.0f%%')\n",
    "plt.title(\"Tweets from London\")\n",
    "plt.show()\n"
   ]
  },
  {
   "cell_type": "code",
   "execution_count": 9,
   "metadata": {
    "execution": {
     "iopub.execute_input": "2021-11-16T03:33:05.164693Z",
     "iopub.status.busy": "2021-11-16T03:33:05.164287Z",
     "iopub.status.idle": "2021-11-16T03:33:05.324431Z",
     "shell.execute_reply": "2021-11-16T03:33:05.323701Z",
     "shell.execute_reply.started": "2021-11-16T03:33:05.164657Z"
    },
    "id": "ca3aOFDxckxv"
   },
   "outputs": [
    {
     "data": {
      "image/png": "[encoded data removed]",
      "text/plain": [
       "<Figure size 1440x360 with 1 Axes>"
      ]
     },
     "metadata": {},
     "output_type": "display_data"
    }
   ],
   "source": [
    "# Tweets originated from India\n",
    "extreme_positive_tweets = len(train_data[(train_data[\"Location\"] == \"India\") & (train_data[\"Sentiment\"] == \"Extremely Positive\")])\n",
    "positive_tweets = len(train_data[(train_data[\"Location\"] == \"India\") & (train_data[\"Sentiment\"] == \"Positive\")])\n",
    "neutral_tweets = len(train_data[(train_data[\"Location\"] == \"India\") & (train_data[\"Sentiment\"] == \"Neutral\")])\n",
    "negative_tweets = len(train_data[(train_data[\"Location\"] == \"India\") & (train_data[\"Sentiment\"] == \"Negative\")])\n",
    "extreme_negative_tweets = len(train_data[(train_data[\"Location\"] == \"India\") & (train_data[\"Sentiment\"] == \"Extremely Negative\")])\n",
    "\n",
    "labels = [\"extremely positive\", \"positive\", \"neutral\", \"negative\", \"extremely negative\"]\n",
    "plt.pie([extreme_positive_tweets, positive_tweets, neutral_tweets, negative_tweets, extreme_negative_tweets],\n",
    "        labels=labels, autopct='%1.0f%%')\n",
    "plt.title(\"Tweets from India\")\n",
    "plt.show()"
   ]
  },
  {
   "cell_type": "code",
   "execution_count": 10,
   "metadata": {
    "execution": {
     "iopub.execute_input": "2021-11-16T03:33:05.332135Z",
     "iopub.status.busy": "2021-11-16T03:33:05.330399Z",
     "iopub.status.idle": "2021-11-16T03:33:05.641302Z",
     "shell.execute_reply": "2021-11-16T03:33:05.640407Z",
     "shell.execute_reply.started": "2021-11-16T03:33:05.332092Z"
    },
    "id": "Z-XlBSkZeASH"
   },
   "outputs": [
    {
     "data": {
      "image/png": "[encoded data removed]",
      "text/plain": [
       "<Figure size 1440x360 with 1 Axes>"
      ]
     },
     "metadata": {},
     "output_type": "display_data"
    }
   ],
   "source": [
    "# Tweets originated from all locations\n",
    "extreme_positive_tweets = len(train_data[train_data[\"Sentiment\"] == \"Extremely Positive\"])\n",
    "positive_tweets = len(train_data[train_data[\"Sentiment\"] == \"Positive\"])\n",
    "neutral_tweets = len(train_data[train_data[\"Sentiment\"] == \"Neutral\"])\n",
    "negative_tweets = len(train_data[train_data[\"Sentiment\"] == \"Negative\"])\n",
    "extreme_negative_tweets = len(train_data[train_data[\"Sentiment\"] == \"Extremely Negative\"])\n",
    "\n",
    "labels = [\"extremely positive\", \"positive\", \"neutral\", \"negative\", \"extremely negative\"]\n",
    "plt.pie([extreme_positive_tweets, positive_tweets, neutral_tweets, negative_tweets, extreme_negative_tweets],\n",
    "        labels=labels, autopct='%1.0f%%')\n",
    "plt.title(\"Labels of all tweets\")\n",
    "plt.show()"
   ]
  },
  {
   "cell_type": "code",
   "execution_count": 11,
   "metadata": {
    "execution": {
     "iopub.execute_input": "2021-11-16T03:33:05.643212Z",
     "iopub.status.busy": "2021-11-16T03:33:05.642818Z",
     "iopub.status.idle": "2021-11-16T03:33:05.670247Z",
     "shell.execute_reply": "2021-11-16T03:33:05.669480Z",
     "shell.execute_reply.started": "2021-11-16T03:33:05.643167Z"
    },
    "id": "N1e3ezGQc5KF"
   },
   "outputs": [
    {
     "data": {
      "text/plain": [
       "UserName            0\n",
       "ScreenName          0\n",
       "Location         8590\n",
       "TweetAt             0\n",
       "OriginalTweet       0\n",
       "Sentiment           0\n",
       "dtype: int64"
      ]
     },
     "execution_count": 11,
     "metadata": {},
     "output_type": "execute_result"
    }
   ],
   "source": [
    "# Check for missing values in training data\n",
    "train_data.isna().sum()"
   ]
  },
  {
   "cell_type": "code",
   "execution_count": 12,
   "metadata": {
    "execution": {
     "iopub.execute_input": "2021-11-16T03:33:05.671716Z",
     "iopub.status.busy": "2021-11-16T03:33:05.671469Z",
     "iopub.status.idle": "2021-11-16T03:33:05.681805Z",
     "shell.execute_reply": "2021-11-16T03:33:05.680931Z",
     "shell.execute_reply.started": "2021-11-16T03:33:05.671682Z"
    },
    "id": "gUjUztBedISv"
   },
   "outputs": [
    {
     "data": {
      "text/plain": [
       "UserName           0\n",
       "ScreenName         0\n",
       "Location         834\n",
       "TweetAt            0\n",
       "OriginalTweet      0\n",
       "Sentiment          0\n",
       "dtype: int64"
      ]
     },
     "execution_count": 12,
     "metadata": {},
     "output_type": "execute_result"
    }
   ],
   "source": [
    "# Check for missing values in test data\n",
    "test_data.isna().sum()"
   ]
  },
  {
   "cell_type": "code",
   "execution_count": 13,
   "metadata": {
    "execution": {
     "iopub.execute_input": "2021-11-16T03:33:05.683940Z",
     "iopub.status.busy": "2021-11-16T03:33:05.683679Z",
     "iopub.status.idle": "2021-11-16T03:33:05.705638Z",
     "shell.execute_reply": "2021-11-16T03:33:05.704863Z",
     "shell.execute_reply.started": "2021-11-16T03:33:05.683908Z"
    },
    "id": "qb1BVxz_dNNM"
   },
   "outputs": [
    {
     "name": "stdout",
     "output_type": "stream",
     "text": [
      "Total tweets 41157\n",
      "Unique tweets 41157\n"
     ]
    }
   ],
   "source": [
    "# Check for duplicate tweets\n",
    "print(\"Total tweets\", len(train_data[\"OriginalTweet\"]))\n",
    "print(\"Unique tweets\", len(set(train_data[\"OriginalTweet\"])))"
   ]
  },
  {
   "cell_type": "markdown",
   "metadata": {
    "id": "MqNzLhAnLgu_"
   },
   "source": [
    "The following observations were obtained from data exploration\n",
    "\n",
    "1. The data under the header 'OriginalTweet' can be used as input data.\n",
    "2. The data under the header 'Sentiment' can be used as the labels to predict.\n",
    "3. The other columns can be removed.\n",
    "4. Missing values are present only in the 'Location' column which is removed.\n",
    "5. No duplicate tweets are found.\n",
    "6. Five sentiments are labelled namely neutral, positive, extremely positive, negative and extremely negative\n",
    "7. Sentiments can be reduced to three <br>\n",
    "   a. positive (positive + extremely positive) <br>\n",
    "   b. negative (negative + extremely negative) <br>\n",
    "   c. neutral <br>\n",
    "   (Positive and extremely positive will have similar context hence may not be differentiated easily by the model and it is the same for negative and extremely negative)"
   ]
  },
  {
   "cell_type": "markdown",
   "metadata": {
    "id": "DPLk0lk1Fbzy"
   },
   "source": [
    "# Data Cleaning and transformation"
   ]
  },
  {
   "cell_type": "code",
   "execution_count": 14,
   "metadata": {
    "execution": {
     "iopub.execute_input": "2021-11-16T03:33:05.707898Z",
     "iopub.status.busy": "2021-11-16T03:33:05.707636Z",
     "iopub.status.idle": "2021-11-16T03:33:05.715090Z",
     "shell.execute_reply": "2021-11-16T03:33:05.714216Z",
     "shell.execute_reply.started": "2021-11-16T03:33:05.707851Z"
    },
    "id": "c8mxEsHoDUz5"
   },
   "outputs": [],
   "source": [
    "# Filter the required columns\n",
    "\n",
    "train_data = train_data[[\"OriginalTweet\", \"Sentiment\"]]\n",
    "test_data = test_data[[\"OriginalTweet\", \"Sentiment\"]]"
   ]
  },
  {
   "cell_type": "markdown",
   "metadata": {
    "id": "4mLs-a9HF8Ym"
   },
   "source": [
    "## Sentiment label preparation"
   ]
  },
  {
   "cell_type": "code",
   "execution_count": 15,
   "metadata": {
    "execution": {
     "iopub.execute_input": "2021-11-16T03:33:05.716905Z",
     "iopub.status.busy": "2021-11-16T03:33:05.716595Z",
     "iopub.status.idle": "2021-11-16T03:33:05.731555Z",
     "shell.execute_reply": "2021-11-16T03:33:05.730634Z",
     "shell.execute_reply.started": "2021-11-16T03:33:05.716820Z"
    },
    "id": "I7jYi9kwFMef"
   },
   "outputs": [
    {
     "data": {
      "text/plain": [
       "Positive              11422\n",
       "Negative               9917\n",
       "Neutral                7713\n",
       "Extremely Positive     6624\n",
       "Extremely Negative     5481\n",
       "Name: Sentiment, dtype: int64"
      ]
     },
     "execution_count": 15,
     "metadata": {},
     "output_type": "execute_result"
    }
   ],
   "source": [
    "train_data[\"Sentiment\"].value_counts()"
   ]
  },
  {
   "cell_type": "code",
   "execution_count": 16,
   "metadata": {
    "execution": {
     "iopub.execute_input": "2021-11-16T03:33:05.733936Z",
     "iopub.status.busy": "2021-11-16T03:33:05.733207Z",
     "iopub.status.idle": "2021-11-16T03:33:05.748487Z",
     "shell.execute_reply": "2021-11-16T03:33:05.744924Z",
     "shell.execute_reply.started": "2021-11-16T03:33:05.733899Z"
    },
    "id": "AsVgjPjlGULU"
   },
   "outputs": [
    {
     "data": {
      "text/plain": [
       "Negative              1041\n",
       "Positive               947\n",
       "Neutral                619\n",
       "Extremely Positive     599\n",
       "Extremely Negative     592\n",
       "Name: Sentiment, dtype: int64"
      ]
     },
     "execution_count": 16,
     "metadata": {},
     "output_type": "execute_result"
    }
   ],
   "source": [
    "test_data[\"Sentiment\"].value_counts()"
   ]
  },
  {
   "cell_type": "markdown",
   "metadata": {},
   "source": [
    "#### Positive and Extremely positive can be combined to a same class. Negative and Extremely negative can be combined to a same class.\n",
    "#### This is due to the following reasons\n",
    "1. Number of samples in each class in less. Hence the model may not learn the features properly\n",
    "2. The context of Positive and Extremely positive samples will be similar. Hence the model may not differentiate between them. (A more complex model with more number of samples will be required to differentiate properly)"
   ]
  },
  {
   "cell_type": "code",
   "execution_count": 17,
   "metadata": {
    "execution": {
     "iopub.execute_input": "2021-11-16T03:33:05.752486Z",
     "iopub.status.busy": "2021-11-16T03:33:05.751779Z",
     "iopub.status.idle": "2021-11-16T03:33:05.762892Z",
     "shell.execute_reply": "2021-11-16T03:33:05.761789Z",
     "shell.execute_reply.started": "2021-11-16T03:33:05.752445Z"
    },
    "id": "ydhA1TNFGmOq"
   },
   "outputs": [],
   "source": [
    "# Dictionary of labels and their integer values\n",
    "label_index = {\n",
    "    \"Positive\" : 0,\n",
    "    \"Negative\" : 1,\n",
    "    \"Neutral\"  : 2,\n",
    "    \"Extremely Positive\" : 0,\n",
    "    \"Extremely Negative\" : 1\n",
    "}"
   ]
  },
  {
   "cell_type": "code",
   "execution_count": 18,
   "metadata": {
    "execution": {
     "iopub.execute_input": "2021-11-16T03:33:05.765340Z",
     "iopub.status.busy": "2021-11-16T03:33:05.764715Z",
     "iopub.status.idle": "2021-11-16T03:33:09.643394Z",
     "shell.execute_reply": "2021-11-16T03:33:09.642547Z",
     "shell.execute_reply.started": "2021-11-16T03:33:05.765306Z"
    },
    "id": "Yp6_lPqYGWln"
   },
   "outputs": [],
   "source": [
    "# Convert the training labels to tensor values\n",
    "train_y = []\n",
    "for label in train_data[\"Sentiment\"]:\n",
    "    train_y.append(torch.tensor([label_index[label]], dtype=torch.long, device=device))"
   ]
  },
  {
   "cell_type": "code",
   "execution_count": 19,
   "metadata": {
    "execution": {
     "iopub.execute_input": "2021-11-16T03:33:09.645408Z",
     "iopub.status.busy": "2021-11-16T03:33:09.644902Z",
     "iopub.status.idle": "2021-11-16T03:33:09.733500Z",
     "shell.execute_reply": "2021-11-16T03:33:09.732820Z",
     "shell.execute_reply.started": "2021-11-16T03:33:09.645368Z"
    },
    "id": "FkgbrsI7Gkak"
   },
   "outputs": [],
   "source": [
    "# Convert the test labels to tensor values\n",
    "test_y = []\n",
    "for label in test_data[\"Sentiment\"]:\n",
    "    test_y.append(torch.tensor([label_index[label]], dtype=torch.long, device=device))"
   ]
  },
  {
   "cell_type": "code",
   "execution_count": 20,
   "metadata": {
    "execution": {
     "iopub.execute_input": "2021-11-16T03:33:09.735031Z",
     "iopub.status.busy": "2021-11-16T03:33:09.734626Z",
     "iopub.status.idle": "2021-11-16T03:33:10.834708Z",
     "shell.execute_reply": "2021-11-16T03:33:10.833892Z",
     "shell.execute_reply.started": "2021-11-16T03:33:09.734994Z"
    },
    "id": "mrNUFZXEJFID"
   },
   "outputs": [
    {
     "name": "stdout",
     "output_type": "stream",
     "text": [
      "3\n",
      "[0.76022387 0.89095986 1.77868534]\n"
     ]
    },
    {
     "data": {
      "image/png": "[encoded data removed]",
      "text/plain": [
       "<Figure size 1440x360 with 1 Axes>"
      ]
     },
     "metadata": {
      "needs_background": "light"
     },
     "output_type": "display_data"
    }
   ],
   "source": [
    "# Number of classes in the data\n",
    "n_classes = len(set([item.item() for item in train_y]))\n",
    "print(n_classes)\n",
    "\n",
    "# Calculate class weights\n",
    "labels = [label.item() for label in train_y]\n",
    "class_weights = compute_class_weight(\"balanced\", classes=np.unique(labels), y=labels)\n",
    "print(class_weights)\n",
    "\n",
    "# Number of samples in each class\n",
    "plt.bar([\"positive\", \"negative\", \"neutral\"],[labels.count(0), labels.count(1), labels.count(2)])\n",
    "for idx, val in enumerate([labels.count(0), labels.count(1), labels.count(2)]):\n",
    "    plt.text(idx-0.1, val+100, str(val))\n",
    "plt.show()"
   ]
  },
  {
   "cell_type": "markdown",
   "metadata": {},
   "source": [
    "#### From the data distribution, we can say that the model may learn the positive and negative samples properly since they are more in number compared to the neutral samples\n",
    "#### Due to class imbalance, we can use class weights while calculating loss to given more importance to class with less number of samples\n"
   ]
  },
  {
   "cell_type": "markdown",
   "metadata": {
    "id": "HdMliecgGApK"
   },
   "source": [
    "## Input data preparation"
   ]
  },
  {
   "cell_type": "markdown",
   "metadata": {},
   "source": [
    "### Data Cleaning"
   ]
  },
  {
   "cell_type": "markdown",
   "metadata": {},
   "source": [
    "Data cleaning techniques used\n",
    "1. Removing urls since url does not contain any relevant information\n",
    "2. Remove emoji and symbols\n",
    "3. Expand words Ex. shouldn't -> should not - this will avoid duplicate embeddings (different embeddings for shouldn't and should not will affect the model performance)\n",
    "4. Separate alphabets and numbers - it will split texts like 'abcd123' to 'abc', '123'\n",
    "5. Truncate repeated single characters\n",
    "6. Remove special characters - it will remove @ and # symbols that are commonly used in tweets\n",
    "7. Convert to lower case"
   ]
  },
  {
   "cell_type": "code",
   "execution_count": 21,
   "metadata": {
    "execution": {
     "iopub.execute_input": "2021-11-16T03:33:10.836729Z",
     "iopub.status.busy": "2021-11-16T03:33:10.836420Z",
     "iopub.status.idle": "2021-11-16T03:33:16.744267Z",
     "shell.execute_reply": "2021-11-16T03:33:16.743494Z",
     "shell.execute_reply.started": "2021-11-16T03:33:10.836687Z"
    }
   },
   "outputs": [],
   "source": [
    "# Clean text\n",
    "\n",
    "def remove_url(text):\n",
    "    \"\"\"\n",
    "    Function to remove URL from the data\n",
    "    \"\"\"\n",
    "    url = re.compile(r'https?://\\S+|www\\.\\S+')\n",
    "    return url.sub(r'',text)\n",
    "\n",
    "def remove_emoji(text):\n",
    "    \"\"\"\n",
    "    Function to remove the emojis from the data\n",
    "    Ref : https://gist.github.com/slowkow/7a7f61f495e3dbb7e3d767f97bd7304b\n",
    "    \"\"\"\n",
    "\n",
    "    emoji_pattern = re.compile(\"[\"\n",
    "                               u\"\\U0001F600-\\U0001F64F\"  # emoticons\n",
    "                               u\"\\U0001F300-\\U0001F5FF\"  # symbols & pictographs\n",
    "                               u\"\\U0001F680-\\U0001F6FF\"  # transport & map symbols\n",
    "                               u\"\\U0001F1E0-\\U0001F1FF\"  # flags (iOS)\n",
    "                               u\"\\U00002500-\\U00002BEF\"  # chinese char\n",
    "                               u\"\\U00002702-\\U000027B0\"\n",
    "                               u\"\\U00002702-\\U000027B0\"\n",
    "                               u\"\\U000024C2-\\U0001F251\"\n",
    "                               u\"\\U0001f926-\\U0001f937\"\n",
    "                               u\"\\U00010000-\\U0010ffff\"\n",
    "                               u\"\\u2640-\\u2642\"\n",
    "                               u\"\\u2600-\\u2B55\"\n",
    "                               u\"\\u200d\"\n",
    "                               u\"\\u23cf\"\n",
    "                               u\"\\u23e9\"\n",
    "                               u\"\\u231a\"\n",
    "                               u\"\\ufe0f\"  # dingbats\n",
    "                               u\"\\u3030\"\n",
    "                               \"]+\", flags=re.UNICODE)\n",
    "    return emoji_pattern.sub(r'', text)\n",
    "\n",
    "def expand(text):\n",
    "    \"\"\"\n",
    "    Function to expand the words commonly used in English\n",
    "    \"\"\"\n",
    "    text = re.sub(r\"won\\'t\", \" will not\", text)\n",
    "    text = re.sub(r\"won\\'t've\", \" will not have\", text)\n",
    "    text = re.sub(r\"can\\'t\", \" can not\", text)\n",
    "    text = re.sub(r\"don\\'t\", \" do not\", text)\n",
    "    \n",
    "    text = re.sub(r\"can\\'t've\", \" can not have\", text)\n",
    "    text = re.sub(r\"ma\\'am\", \" madam\", text)\n",
    "    text = re.sub(r\"let\\'s\", \" let us\", text)\n",
    "    text = re.sub(r\"ain\\'t\", \" am not\", text)\n",
    "    text = re.sub(r\"shan\\'t\", \" shall not\", text)\n",
    "    text = re.sub(r\"sha\\n't\", \" shall not\", text)\n",
    "    text = re.sub(r\"o\\'clock\", \" of the clock\", text)\n",
    "    text = re.sub(r\"y\\'all\", \" you all\", text)\n",
    "    \n",
    "    text = re.sub(r\"n\\'t\", \" not\", text)\n",
    "    text = re.sub(r\"n\\'t've\", \" not have\", text)\n",
    "    text = re.sub(r\"\\'re\", \" are\", text)\n",
    "    text = re.sub(r\"\\'s\", \" is\", text)\n",
    "    text = re.sub(r\"\\'d\", \" would\", text)\n",
    "    text = re.sub(r\"\\'d've\", \" would have\", text)\n",
    "    text = re.sub(r\"\\'ll\", \" will\", text)\n",
    "    text = re.sub(r\"\\'ll've\", \" will have\", text)\n",
    "    text = re.sub(r\"\\'t\", \" not\", text)\n",
    "    text = re.sub(r\"\\'ve\", \" have\", text)\n",
    "    text = re.sub(r\"\\'m\", \" am\", text)\n",
    "    text = re.sub(r\"\\'re\", \" are\", text)\n",
    "    return text\n",
    "\n",
    "def seperate_alphanumeric(text):\n",
    "    \"\"\"\n",
    "    Function to separate alphabets and numbers that are found together\n",
    "    in the text\n",
    "    \"\"\"\n",
    "    words = text\n",
    "    words = re.findall(r\"[^\\W\\d_]+|\\d+\", words)\n",
    "    return \" \".join(words)\n",
    "    \n",
    "def cont_rep_char(text):\n",
    "    \"\"\"\n",
    "    Find repeating character\n",
    "    \"\"\"\n",
    "    tchr = text.group(0)\n",
    "    if len(tchr) > 1:\n",
    "        return tchr[0:2]\n",
    "    \n",
    "def unique_char(rep, text):\n",
    "    \"\"\"\n",
    "    Substitue repeating character with rep in text\n",
    "    \"\"\"\n",
    "    sub = re.sub(r'(\\w)\\1+', rep, text)\n",
    "    return sub\n",
    "\n",
    "def special_char(text):\n",
    "    \"\"\"\n",
    "    Remove special characters other than alphabets\n",
    "    \"\"\"\n",
    "    return re.sub(r'[^a-zA-Z]',' ',text)\n",
    "\n",
    "# Apply functions on the training data\n",
    "train_data['OriginalTweet'] = [remove_url(data) for data in train_data['OriginalTweet']]\n",
    "train_data['OriginalTweet'] = [remove_emoji(data) for data in train_data['OriginalTweet']]\n",
    "train_data['OriginalTweet'] = [expand(data) for data in train_data['OriginalTweet']]\n",
    "train_data['OriginalTweet'] = [seperate_alphanumeric(data) for data in train_data['OriginalTweet']]\n",
    "train_data['OriginalTweet'] = [unique_char(cont_rep_char, data) for data in train_data['OriginalTweet']]\n",
    "train_data['OriginalTweet'] = [special_char(data) for data in train_data['OriginalTweet']]\n",
    "train_data['OriginalTweet'] = [data.lower() for data in train_data['OriginalTweet']]\n",
    "\n",
    "# Apply functions on the test data\n",
    "test_data['OriginalTweet'] = [remove_url(data) for data in test_data['OriginalTweet']]\n",
    "test_data['OriginalTweet'] = [remove_emoji(data) for data in test_data['OriginalTweet']]\n",
    "test_data['OriginalTweet'] = [expand(data) for data in test_data['OriginalTweet']]\n",
    "test_data['OriginalTweet'] = [seperate_alphanumeric(data) for data in test_data['OriginalTweet']]\n",
    "test_data['OriginalTweet'] = [unique_char(cont_rep_char, data) for data in test_data['OriginalTweet']]\n",
    "test_data['OriginalTweet'] = [special_char(data) for data in test_data['OriginalTweet']]\n",
    "test_data['OriginalTweet'] = [data.lower() for data in test_data['OriginalTweet']]\n"
   ]
  },
  {
   "cell_type": "markdown",
   "metadata": {},
   "source": [
    "### Data Vectorization and Embedding\n",
    "\n",
    "#### Main Objective of this step is to convert the sequence to tokens to sequence of numbers and obtain a dictionary of embedding vectors from glove\n",
    "\n",
    "The following steps are carried out\n",
    "\n",
    "1. Obtain the vectors from glove embeddings\n",
    "2. Tokenize the input data and apply lemmatization\n",
    "3. Create vocabulary of tokens and convert tokens to numbers\n",
    "4. Based on the vocabulary and glove embeddings, obtain a pretrained weight matrix for embedding layer\n",
    "\n",
    "We will obtain\n",
    "1. Numerical input sequence\n",
    "2. Weight matrix for embedding layer using glove"
   ]
  },
  {
   "cell_type": "code",
   "execution_count": 22,
   "metadata": {
    "execution": {
     "iopub.execute_input": "2021-11-16T03:33:16.745889Z",
     "iopub.status.busy": "2021-11-16T03:33:16.745535Z",
     "iopub.status.idle": "2021-11-16T03:34:04.488353Z",
     "shell.execute_reply": "2021-11-16T03:34:04.486833Z",
     "shell.execute_reply.started": "2021-11-16T03:33:16.745837Z"
    },
    "id": "D90uSewiSRwq"
   },
   "outputs": [
    {
     "name": "stderr",
     "output_type": "stream",
     "text": [
      "400000it [00:47, 8381.45it/s]"
     ]
    },
    {
     "name": "stdout",
     "output_type": "stream",
     "text": [
      "Found 400000 word vectors.\n"
     ]
    },
    {
     "name": "stderr",
     "output_type": "stream",
     "text": [
      "\n"
     ]
    }
   ],
   "source": [
    "# Store the glove embeddings in a dictionary\n",
    "\n",
    "embeddings_dict = {}\n",
    "n_embeddings = 300\n",
    "emb_file = open('../input/glove6b300dtxt/glove.6B.300d.txt', encoding='utf-8')\n",
    "for line in tqdm(emb_file):\n",
    "    values = line.split()\n",
    "    word = values[0]\n",
    "    coefs = np.asarray(values[1:], dtype='float32')\n",
    "    embeddings_dict[word] = coefs\n",
    "emb_file.close()\n",
    "\n",
    "print('Found %s word vectors.' % len(embeddings_dict))"
   ]
  },
  {
   "cell_type": "code",
   "execution_count": 23,
   "metadata": {
    "execution": {
     "iopub.execute_input": "2021-11-16T03:34:04.490019Z",
     "iopub.status.busy": "2021-11-16T03:34:04.489750Z",
     "iopub.status.idle": "2021-11-16T03:34:04.662200Z",
     "shell.execute_reply": "2021-11-16T03:34:04.661449Z",
     "shell.execute_reply.started": "2021-11-16T03:34:04.489982Z"
    },
    "id": "N13ZznTIfrdT"
   },
   "outputs": [
    {
     "name": "stdout",
     "output_type": "stream",
     "text": [
      "[nltk_data] Downloading package wordnet to /usr/share/nltk_data...\n",
      "[nltk_data]   Package wordnet is already up-to-date!\n"
     ]
    }
   ],
   "source": [
    "# Initialize the Lemmatizer\n",
    "nltk.download('wordnet') \n",
    "lemmatizer = WordNetLemmatizer()"
   ]
  },
  {
   "cell_type": "code",
   "execution_count": 24,
   "metadata": {
    "execution": {
     "iopub.execute_input": "2021-11-16T03:34:04.664015Z",
     "iopub.status.busy": "2021-11-16T03:34:04.663318Z",
     "iopub.status.idle": "2021-11-16T03:35:13.131347Z",
     "shell.execute_reply": "2021-11-16T03:35:13.130614Z",
     "shell.execute_reply.started": "2021-11-16T03:34:04.663977Z"
    },
    "id": "wjvDteKvX04z"
   },
   "outputs": [
    {
     "name": "stderr",
     "output_type": "stream",
     "text": [
      "100%|██████████| 41157/41157 [01:02<00:00, 658.51it/s]\n",
      "100%|██████████| 3798/3798 [00:05<00:00, 638.09it/s]"
     ]
    },
    {
     "name": "stdout",
     "output_type": "stream",
     "text": [
      "50805\n"
     ]
    },
    {
     "name": "stderr",
     "output_type": "stream",
     "text": [
      "\n"
     ]
    }
   ],
   "source": [
    "# Create vocabulary from the training and test data\n",
    "target_vocab = []\n",
    "\n",
    "# Train data\n",
    "for tweet in tqdm(train_data[\"OriginalTweet\"]):\n",
    "    tokens = word_tokenize(tweet)\n",
    "    for token in tokens:\n",
    "        token = lemmatizer.lemmatize(token)\n",
    "        if token.lower() not in target_vocab:\n",
    "            target_vocab.append(token.lower())\n",
    "\n",
    "# Test data\n",
    "for tweet in tqdm(test_data[\"OriginalTweet\"]):\n",
    "    tokens = word_tokenize(tweet)\n",
    "    for token in tokens:\n",
    "        token = lemmatizer.lemmatize(token)\n",
    "        if token.lower() not in target_vocab:\n",
    "            target_vocab.append(token.lower())\n",
    "    \n",
    "print(len(target_vocab))"
   ]
  },
  {
   "cell_type": "markdown",
   "metadata": {},
   "source": [
    "#### Glove embeddings are used for tokens that already exists. For non existing tokens, embeddings are randomly initialized."
   ]
  },
  {
   "cell_type": "code",
   "execution_count": 25,
   "metadata": {
    "execution": {
     "iopub.execute_input": "2021-11-16T03:35:13.133154Z",
     "iopub.status.busy": "2021-11-16T03:35:13.132719Z",
     "iopub.status.idle": "2021-11-16T03:35:14.715373Z",
     "shell.execute_reply": "2021-11-16T03:35:14.714212Z",
     "shell.execute_reply.started": "2021-11-16T03:35:13.133116Z"
    },
    "id": "nvn4jUkgd3d6"
   },
   "outputs": [
    {
     "name": "stderr",
     "output_type": "stream",
     "text": [
      "100%|██████████| 50805/50805 [00:01<00:00, 32443.35it/s]\n"
     ]
    }
   ],
   "source": [
    "# Create pretrained weight matrix for the embedding layer from glove embeddings\n",
    "\n",
    "weight_matrix = torch.zeros((len(target_vocab), n_embeddings), device=device)\n",
    "str_to_index = {}\n",
    "for index, token in tqdm(enumerate(target_vocab), total=len(target_vocab)):\n",
    "    str_to_index[token] = index\n",
    "\n",
    "    # Existing embedding values\n",
    "    try:\n",
    "        weight_matrix[index] = torch.tensor(embeddings_dict[token], device=device)\n",
    "\n",
    "    # Use a random value when embeddings are not found in glove\n",
    "    except KeyError:\n",
    "        weight_matrix[index] = torch.randn((n_embeddings,), device=device)\n",
    "  "
   ]
  },
  {
   "cell_type": "markdown",
   "metadata": {},
   "source": [
    "#### Encode the tokens to numerical value based on vocabulary"
   ]
  },
  {
   "cell_type": "code",
   "execution_count": 26,
   "metadata": {
    "execution": {
     "iopub.execute_input": "2021-11-16T03:35:14.717101Z",
     "iopub.status.busy": "2021-11-16T03:35:14.716809Z",
     "iopub.status.idle": "2021-11-16T03:35:36.982998Z",
     "shell.execute_reply": "2021-11-16T03:35:36.982170Z",
     "shell.execute_reply.started": "2021-11-16T03:35:14.717064Z"
    },
    "id": "wJX_5ifRWud4"
   },
   "outputs": [
    {
     "name": "stderr",
     "output_type": "stream",
     "text": [
      "100%|██████████| 41157/41157 [00:22<00:00, 1849.15it/s]\n"
     ]
    }
   ],
   "source": [
    "# Encode the tokens tokens in training data using the created vocabulary\n",
    "encoded_train_X = []\n",
    "for tweet in tqdm(train_data[\"OriginalTweet\"]):\n",
    "    tokens = word_tokenize(tweet)\n",
    "    data = []\n",
    "\n",
    "    for token in tokens:\n",
    "\n",
    "        # Lemmatize the token\n",
    "        token = lemmatizer.lemmatize(token)\n",
    "\n",
    "        # Get the index of the token from the vocabulary\n",
    "        data.append(str_to_index[token.lower()])\n",
    "\n",
    "    encoded_train_X.append(torch.tensor(data, dtype=torch.long, device=device))\n"
   ]
  },
  {
   "cell_type": "code",
   "execution_count": 27,
   "metadata": {
    "execution": {
     "iopub.execute_input": "2021-11-16T03:35:36.984622Z",
     "iopub.status.busy": "2021-11-16T03:35:36.984287Z",
     "iopub.status.idle": "2021-11-16T03:35:39.049092Z",
     "shell.execute_reply": "2021-11-16T03:35:39.048373Z",
     "shell.execute_reply.started": "2021-11-16T03:35:36.984584Z"
    },
    "id": "GDpTOh8dHo6Y"
   },
   "outputs": [
    {
     "name": "stderr",
     "output_type": "stream",
     "text": [
      "100%|██████████| 3798/3798 [00:02<00:00, 1847.57it/s]\n"
     ]
    }
   ],
   "source": [
    "# Encode the tokens in test data using the created vocabulary\n",
    "encoded_test_X = []\n",
    "for tweet in tqdm(test_data[\"OriginalTweet\"]):\n",
    "    tokens = word_tokenize(tweet)\n",
    "    data = []\n",
    "\n",
    "    for token in tokens:\n",
    "\n",
    "        # Lemmatize the token\n",
    "        token = lemmatizer.lemmatize(token)\n",
    "\n",
    "        # Get the index of the token from the vocabulary\n",
    "        data.append(str_to_index[token.lower()])\n",
    "\n",
    "    encoded_test_X.append(torch.tensor(data, dtype=torch.long, device=device))\n"
   ]
  },
  {
   "cell_type": "markdown",
   "metadata": {
    "id": "3yFXRwNiIJNy"
   },
   "source": [
    "# Model creation\n"
   ]
  },
  {
   "cell_type": "markdown",
   "metadata": {
    "id": "MRy74T-kITMR"
   },
   "source": [
    "## Model defintion"
   ]
  },
  {
   "cell_type": "markdown",
   "metadata": {
    "id": "Db1lnSqQL5Y5"
   },
   "source": [
    "#### The model contains an embedding layer, a Bidirectional LSTM layers followed by a couple of fully connected layers.\n",
    "#### The weights of embedding layers are intialize using the glove embeddings.\n",
    "\n",
    "#### Reason for choosing this network \n",
    "1. The data is less hence a less complex model need to be used (One LSTM layer)\n",
    "2. Bidirectional LSTM is used since it gets the features along both forward and backward directions in the sequence\n",
    "3. Dropout is used due to less training data. Dropout can avoid overfitting. \n",
    "4. Using a pretrained weight for embedding layer can reduce training time."
   ]
  },
  {
   "cell_type": "code",
   "execution_count": 28,
   "metadata": {
    "execution": {
     "iopub.execute_input": "2021-11-16T03:35:39.053603Z",
     "iopub.status.busy": "2021-11-16T03:35:39.053397Z",
     "iopub.status.idle": "2021-11-16T03:35:39.061715Z",
     "shell.execute_reply": "2021-11-16T03:35:39.061060Z",
     "shell.execute_reply.started": "2021-11-16T03:35:39.053576Z"
    },
    "id": "2kRmNc3DT6J7"
   },
   "outputs": [],
   "source": [
    "class LstmClassifier(nn.Module):\n",
    "  \"\"\"\n",
    "  Covid tweet classifer using LSTM layers\n",
    "  \"\"\"\n",
    "  def __init__(self, weight_matrix, n_class, hidden_size1=50, hidden_size2=50, \n",
    "               load_weight=False):\n",
    "    \"\"\"\n",
    "    Intialize the embedding and LSTM layer and load the weights\n",
    "    \"\"\"\n",
    "    super().__init__()\n",
    "    n_embeddings, embedding_dim = weight_matrix.shape\n",
    "    self.embedding = nn.Embedding(n_embeddings, embedding_dim)\n",
    "    if load_weight:\n",
    "      self.embedding.load_state_dict = weight_matrix\n",
    "    self.lstm1 = nn.LSTM(input_size=embedding_dim, hidden_size=hidden_size1, \n",
    "                         bidirectional=True)\n",
    "    self.fc = nn.Linear(2*hidden_size1, hidden_size2)\n",
    "    self.act = nn.ReLU()\n",
    "    self.drop = nn.Dropout(0.2)\n",
    "    self.out = nn.Linear(hidden_size2, n_class)\n",
    "\n",
    "  def forward(self, data):\n",
    "    \"\"\"\n",
    "    Pass the input through the model and return the output tensor\n",
    "    \"\"\"\n",
    "    out = self.embedding(data)\n",
    "    out, _ = self.lstm1(out.unsqueeze(0))\n",
    "    out = torch.mean(out, dim=1)\n",
    "    out = self.act(self.fc(out))\n",
    "    out = self.drop(out)\n",
    "    out = self.out(out)\n",
    "\n",
    "    return out"
   ]
  },
  {
   "cell_type": "code",
   "execution_count": 29,
   "metadata": {
    "execution": {
     "iopub.execute_input": "2021-11-16T03:35:39.063465Z",
     "iopub.status.busy": "2021-11-16T03:35:39.062815Z",
     "iopub.status.idle": "2021-11-16T03:35:39.913943Z",
     "shell.execute_reply": "2021-11-16T03:35:39.913138Z",
     "shell.execute_reply.started": "2021-11-16T03:35:39.063426Z"
    },
    "id": "m8rkoeNGwyUH"
   },
   "outputs": [],
   "source": [
    "# Intialize the model, loss function and optimizer\n",
    "\n",
    "learning_rate = 0.001\n",
    "n_epochs = 10\n",
    "batch_size = 128\n",
    "test_interval = 1\n",
    "\n",
    "classifier_lstm = LstmClassifier(weight_matrix, n_class=n_classes, load_weight=True).to(device)\n",
    "criterion = nn.CrossEntropyLoss(weight=torch.FloatTensor(class_weights).to(device))\n",
    "optimizer = torch.optim.Adam(classifier_lstm.parameters(), lr=learning_rate)"
   ]
  },
  {
   "cell_type": "markdown",
   "metadata": {
    "id": "Qq5K71ovJ1iz"
   },
   "source": [
    "# Model Training"
   ]
  },
  {
   "cell_type": "code",
   "execution_count": 30,
   "metadata": {
    "execution": {
     "iopub.execute_input": "2021-11-16T03:35:39.915399Z",
     "iopub.status.busy": "2021-11-16T03:35:39.915141Z",
     "iopub.status.idle": "2021-11-16T03:56:18.398413Z",
     "shell.execute_reply": "2021-11-16T03:56:18.397674Z",
     "shell.execute_reply.started": "2021-11-16T03:35:39.915365Z"
    },
    "id": "8WI9_A9fw8Dh"
   },
   "outputs": [
    {
     "name": "stderr",
     "output_type": "stream",
     "text": [
      "Epoch:1 Training loss:0.87797 accuracy:0.58621 f1 score:0.52925: 100%|██████████| 41157/41157 [01:26<00:00, 478.28it/s]\n",
      "Epoch:1 Validation loss:0.7207 accuracy:0.70063 f1 score:0.65439: 100%|██████████| 3798/3798 [00:38<00:00, 97.97it/s]  \n",
      "Epoch:2 Training loss:0.5758 accuracy:0.77704 f1 score:0.7472: 100%|██████████| 41157/41157 [01:24<00:00, 486.95it/s]  \n",
      "Epoch:2 Validation loss:0.60462 accuracy:0.76356 f1 score:0.73612: 100%|██████████| 3798/3798 [00:38<00:00, 98.70it/s] \n",
      "Epoch:3 Training loss:0.41517 accuracy:0.85443 f1 score:0.83855: 100%|██████████| 41157/41157 [01:24<00:00, 485.88it/s]\n",
      "Epoch:3 Validation loss:0.57152 accuracy:0.78225 f1 score:0.75879: 100%|██████████| 3798/3798 [00:38<00:00, 99.42it/s] \n",
      "Epoch:4 Training loss:0.31784 accuracy:0.89717 f1 score:0.88649: 100%|██████████| 41157/41157 [01:24<00:00, 485.73it/s]\n",
      "Epoch:4 Validation loss:0.56662 accuracy:0.79805 f1 score:0.77581: 100%|██████████| 3798/3798 [00:38<00:00, 97.80it/s] \n",
      "Epoch:5 Training loss:0.25186 accuracy:0.92236 f1 score:0.91421: 100%|██████████| 41157/41157 [01:26<00:00, 475.24it/s]\n",
      "Epoch:5 Validation loss:0.59054 accuracy:0.79463 f1 score:0.77105: 100%|██████████| 3798/3798 [00:38<00:00, 98.24it/s] \n",
      "Epoch:6 Training loss:0.20356 accuracy:0.94027 f1 score:0.93394: 100%|██████████| 41157/41157 [01:24<00:00, 484.92it/s]\n",
      "Epoch:6 Validation loss:0.64195 accuracy:0.78726 f1 score:0.76328: 100%|██████████| 3798/3798 [00:38<00:00, 99.63it/s] \n",
      "Epoch:7 Training loss:0.1676 accuracy:0.95074 f1 score:0.94531: 100%|██████████| 41157/41157 [01:24<00:00, 486.79it/s] \n",
      "Epoch:7 Validation loss:0.67267 accuracy:0.79279 f1 score:0.76579: 100%|██████████| 3798/3798 [00:38<00:00, 98.42it/s] \n",
      "Epoch:8 Training loss:0.14047 accuracy:0.95974 f1 score:0.95525: 100%|██████████| 41157/41157 [01:24<00:00, 486.97it/s]\n",
      "Epoch:8 Validation loss:0.71812 accuracy:0.79437 f1 score:0.76843: 100%|██████████| 3798/3798 [00:38<00:00, 98.83it/s] \n",
      "Epoch:9 Training loss:0.11919 accuracy:0.96503 f1 score:0.96084: 100%|██████████| 41157/41157 [01:24<00:00, 485.20it/s]\n",
      "Epoch:9 Validation loss:0.78258 accuracy:0.79094 f1 score:0.76253: 100%|██████████| 3798/3798 [00:38<00:00, 98.62it/s] \n",
      "Epoch:10 Training loss:0.10342 accuracy:0.96819 f1 score:0.96418: 100%|██████████| 41157/41157 [01:24<00:00, 486.88it/s]\n",
      "Epoch:10 Validation loss:0.84968 accuracy:0.78331 f1 score:0.7547: 100%|██████████| 3798/3798 [00:38<00:00, 98.80it/s]  \n"
     ]
    }
   ],
   "source": [
    "# Placeholders to store model progress\n",
    "train_loss = []\n",
    "train_accuracy = []\n",
    "train_f1 = []\n",
    "test_loss = []\n",
    "test_accuracy = []\n",
    "test_f1 = []\n",
    "\n",
    "epoch_start_time = time()\n",
    "for epoch in range(1, n_epochs+1):\n",
    "\n",
    "  ##########\n",
    "  # TRAINING\n",
    "  ##########\n",
    "\n",
    "  classifier_lstm.train()\n",
    "  \n",
    "  # Intialize loss and batch\n",
    "  loss = torch.tensor(0, dtype=torch.float, device=device)\n",
    "  batch = 0\n",
    "  epoch_loss = torch.tensor(0, dtype=torch.float, device=device)\n",
    "  true_values = []\n",
    "  pred_values = []\n",
    "\n",
    "  data_start_time = time()\n",
    "  idx = 0\n",
    "\n",
    "  # Initialize progress bar\n",
    "  pbar = tqdm(zip(encoded_train_X, train_y), total=len(train_y))\n",
    "  for data, label in pbar:\n",
    "\n",
    "    # Ignore empty sequences\n",
    "    if len(data) == 0:\n",
    "      continue\n",
    "    batch += 1\n",
    "    idx += 1\n",
    "    out = classifier_lstm(data)\n",
    "\n",
    "    # Calculate loss\n",
    "    cur_loss = criterion(out, label)\n",
    "    loss += cur_loss\n",
    "\n",
    "    # Store the true and predicted labels\n",
    "    true_values.append(label.item())\n",
    "    pred_values.append(torch.argmax(out[0,:]).item())\n",
    "    \n",
    "    # Update the model\n",
    "    if batch == batch_size:\n",
    "      epoch_loss += loss.detach()\n",
    "\n",
    "      loss.backward()\n",
    "      optimizer.step()\n",
    "      optimizer.zero_grad()\n",
    "\n",
    "      # print the progress\n",
    "      pbar.set_description(f\"Epoch:{epoch} Training loss:{round(epoch_loss.item()/idx, 5)} \" +\n",
    "                           f\"accuracy:{round(accuracy_score(true_values, pred_values), 5)} \" +\n",
    "                           f\"f1 score:{round(f1_score(true_values, pred_values, average='macro'), 5)}\")\n",
    "      \n",
    "      loss = torch.tensor(0, dtype=torch.float, device=device)\n",
    "      batch = 0\n",
    "    \n",
    "    \n",
    "  # Store the loss values\n",
    "  train_loss.append(epoch_loss.item()/idx)\n",
    "  train_accuracy.append(accuracy_score(true_values, pred_values))\n",
    "  train_f1.append(f1_score(true_values, pred_values, average='macro'))\n",
    "\n",
    "  ############\n",
    "  # VALIDATION\n",
    "  ############\n",
    "  if epoch % test_interval == 0:\n",
    "\n",
    "    classifier_lstm.eval()\n",
    "    with torch.no_grad():\n",
    "\n",
    "      # Intialize loss and batch\n",
    "      loss = torch.tensor(0, dtype=torch.float, device=device)\n",
    "      batch = 0\n",
    "      epoch_loss = torch.tensor(0, dtype=torch.float, device=device)\n",
    "      true_values = []\n",
    "      pred_values = []\n",
    "\n",
    "      data_start_time = time()\n",
    "      idx = 0\n",
    "\n",
    "      # Initialize progress bar\n",
    "      pbar = tqdm(zip(encoded_test_X, test_y), total=len(test_y))\n",
    "      for data, label in pbar:\n",
    "\n",
    "        # Ignore empty sequences\n",
    "        if len(data) == 0:\n",
    "          continue\n",
    "        batch += 1\n",
    "        idx += 1\n",
    "        out = classifier_lstm(data)\n",
    "\n",
    "        # Calculate loss\n",
    "        cur_loss = criterion(out, label)\n",
    "        epoch_loss += cur_loss\n",
    "\n",
    "        # Store the true and predicted labels\n",
    "        true_values.append(label.item())\n",
    "        pred_values.append(torch.argmax(out[0,:]).item())\n",
    "\n",
    "        epoch_loss += loss.detach()\n",
    "        \n",
    "        # Print the progress\n",
    "        pbar.set_description(f\"Epoch:{epoch} Validation loss:{round(epoch_loss.item()/idx, 5)} \" +\n",
    "                             f\"accuracy:{round(accuracy_score(true_values, pred_values), 5)} \" +\n",
    "                             f\"f1 score:{round(f1_score(true_values, pred_values, average='macro'), 5)}\")\n",
    "        \n",
    "      # Store the loss values\n",
    "      test_loss.append(epoch_loss.item()/idx)\n",
    "      test_accuracy.append(accuracy_score(true_values, pred_values))\n",
    "      test_f1.append(f1_score(true_values, pred_values, average='macro'))\n",
    "\n",
    "      # Save the model weights\n",
    "      torch.save(classifier_lstm.state_dict(), \"./classifier_lstm_\" + str(epoch) + \".pt\")\n"
   ]
  },
  {
   "cell_type": "markdown",
   "metadata": {
    "id": "w05X3sg6MKcx"
   },
   "source": [
    "# Training Progress"
   ]
  },
  {
   "cell_type": "markdown",
   "metadata": {
    "id": "wJJv2F7yOjnD"
   },
   "source": [
    "### Loss graph"
   ]
  },
  {
   "cell_type": "code",
   "execution_count": 31,
   "metadata": {
    "execution": {
     "iopub.execute_input": "2021-11-16T03:56:18.400428Z",
     "iopub.status.busy": "2021-11-16T03:56:18.399609Z",
     "iopub.status.idle": "2021-11-16T03:56:18.627571Z",
     "shell.execute_reply": "2021-11-16T03:56:18.626925Z",
     "shell.execute_reply.started": "2021-11-16T03:56:18.400389Z"
    },
    "id": "jRzpVl_O782V"
   },
   "outputs": [
    {
     "data": {
      "image/png": "[encoded data removed]",
      "text/plain": [
       "<Figure size 1440x360 with 1 Axes>"
      ]
     },
     "metadata": {
      "needs_background": "light"
     },
     "output_type": "display_data"
    }
   ],
   "source": [
    "train_epochs = list(range(1, n_epochs+1))\n",
    "test_epochs = list(range(test_interval, n_epochs+1, test_interval))\n",
    "plt.plot(train_epochs, train_loss, \"red\")\n",
    "plt.plot(test_epochs, test_loss, \"blue\")\n",
    "plt.legend([\"Training\", \"Validation\"])\n",
    "plt.xlabel(\"Epochs\")\n",
    "plt.ylabel(\"Loss\")\n",
    "plt.title(\"Epochs vs Loss\")\n",
    "plt.show()"
   ]
  },
  {
   "cell_type": "markdown",
   "metadata": {
    "id": "v1XA0YbMPW_x"
   },
   "source": [
    "### Accuracy graph"
   ]
  },
  {
   "cell_type": "code",
   "execution_count": 32,
   "metadata": {
    "execution": {
     "iopub.execute_input": "2021-11-16T03:56:18.630024Z",
     "iopub.status.busy": "2021-11-16T03:56:18.628615Z",
     "iopub.status.idle": "2021-11-16T03:56:18.853370Z",
     "shell.execute_reply": "2021-11-16T03:56:18.852658Z",
     "shell.execute_reply.started": "2021-11-16T03:56:18.629983Z"
    },
    "id": "DyPWIMMkO9Cd"
   },
   "outputs": [
    {
     "data": {
      "image/png": "[encoded data removed]",
      "text/plain": [
       "<Figure size 1440x360 with 1 Axes>"
      ]
     },
     "metadata": {
      "needs_background": "light"
     },
     "output_type": "display_data"
    }
   ],
   "source": [
    "train_epochs = list(range(1, n_epochs+1))\n",
    "test_epochs = list(range(test_interval, n_epochs+1, test_interval))\n",
    "plt.plot(train_epochs, train_accuracy, \"red\")\n",
    "plt.plot(test_epochs, test_accuracy, \"blue\")\n",
    "plt.legend([\"Training\", \"Validation\"])\n",
    "plt.xlabel(\"Epochs\")\n",
    "plt.ylabel(\"Accuracy\")\n",
    "plt.title(\"Epochs vs Accuracy\")\n",
    "plt.show()"
   ]
  },
  {
   "cell_type": "markdown",
   "metadata": {},
   "source": [
    "### F1 graph"
   ]
  },
  {
   "cell_type": "code",
   "execution_count": 33,
   "metadata": {
    "execution": {
     "iopub.execute_input": "2021-11-16T03:56:18.854952Z",
     "iopub.status.busy": "2021-11-16T03:56:18.854692Z",
     "iopub.status.idle": "2021-11-16T03:56:19.060368Z",
     "shell.execute_reply": "2021-11-16T03:56:19.059705Z",
     "shell.execute_reply.started": "2021-11-16T03:56:18.854918Z"
    },
    "id": "1caX9siSPAgE"
   },
   "outputs": [
    {
     "data": {
      "image/png": "[encoded data removed]",
      "text/plain": [
       "<Figure size 1440x360 with 1 Axes>"
      ]
     },
     "metadata": {
      "needs_background": "light"
     },
     "output_type": "display_data"
    }
   ],
   "source": [
    "train_epochs = list(range(1, n_epochs+1))\n",
    "test_epochs = list(range(test_interval, n_epochs+1, test_interval))\n",
    "plt.plot(train_epochs, train_f1, \"red\")\n",
    "plt.plot(test_epochs, test_f1, \"blue\")\n",
    "plt.legend([\"Training\", \"Validation\"])\n",
    "plt.xlabel(\"Epochs\")\n",
    "plt.ylabel(\"F1 score\")\n",
    "plt.title(\"Epochs vs F1 score\")\n",
    "plt.show()"
   ]
  },
  {
   "cell_type": "markdown",
   "metadata": {},
   "source": [
    "#### The model appears to overfit after four epochs\n",
    "#### We can use the model from 4th epoch as final model since validation loss increases after 4 epochs"
   ]
  },
  {
   "cell_type": "markdown",
   "metadata": {},
   "source": [
    "# Testing using saved model"
   ]
  },
  {
   "cell_type": "code",
   "execution_count": 34,
   "metadata": {
    "execution": {
     "iopub.execute_input": "2021-11-16T03:56:19.061812Z",
     "iopub.status.busy": "2021-11-16T03:56:19.061570Z",
     "iopub.status.idle": "2021-11-16T03:56:19.117528Z",
     "shell.execute_reply": "2021-11-16T03:56:19.116726Z",
     "shell.execute_reply.started": "2021-11-16T03:56:19.061783Z"
    }
   },
   "outputs": [
    {
     "data": {
      "text/plain": [
       "<All keys matched successfully>"
      ]
     },
     "execution_count": 34,
     "metadata": {},
     "output_type": "execute_result"
    }
   ],
   "source": [
    "# Load the saved weights\n",
    "classifier_lstm.load_state_dict(torch.load(\"./classifier_lstm_4.pt\"))"
   ]
  },
  {
   "cell_type": "markdown",
   "metadata": {},
   "source": [
    "# Testing on Training data"
   ]
  },
  {
   "cell_type": "code",
   "execution_count": 35,
   "metadata": {
    "execution": {
     "iopub.execute_input": "2021-11-16T03:56:19.119260Z",
     "iopub.status.busy": "2021-11-16T03:56:19.118995Z",
     "iopub.status.idle": "2021-11-16T03:56:39.533081Z",
     "shell.execute_reply": "2021-11-16T03:56:39.531917Z",
     "shell.execute_reply.started": "2021-11-16T03:56:19.119224Z"
    }
   },
   "outputs": [
    {
     "name": "stderr",
     "output_type": "stream",
     "text": [
      "100%|██████████| 41157/41157 [00:20<00:00, 2017.04it/s]\n"
     ]
    }
   ],
   "source": [
    "classifier_lstm.eval()\n",
    "with torch.no_grad():\n",
    "\n",
    "    true_values = []\n",
    "    pred_values = []\n",
    "\n",
    "    # Initialize progress bar\n",
    "    pbar = tqdm(zip(encoded_train_X, train_y), total=len(train_y))\n",
    "    for data, label in pbar:\n",
    "\n",
    "    # Ignore empty sequences\n",
    "        if len(data) == 0:\n",
    "            continue\n",
    "\n",
    "        out = classifier_lstm(data)\n",
    "\n",
    "        # Store the true and predicted labels\n",
    "        true_values.append(label.item())\n",
    "        pred_values.append(torch.argmax(out[0,:]).item())"
   ]
  },
  {
   "cell_type": "code",
   "execution_count": 36,
   "metadata": {
    "execution": {
     "iopub.execute_input": "2021-11-16T03:56:39.534798Z",
     "iopub.status.busy": "2021-11-16T03:56:39.534534Z",
     "iopub.status.idle": "2021-11-16T03:56:39.634391Z",
     "shell.execute_reply": "2021-11-16T03:56:39.633593Z",
     "shell.execute_reply.started": "2021-11-16T03:56:39.534761Z"
    }
   },
   "outputs": [
    {
     "name": "stdout",
     "output_type": "stream",
     "text": [
      "              precision    recall  f1-score   support\n",
      "\n",
      "           0       0.94      0.95      0.94     18046\n",
      "           1       0.92      0.95      0.93     15398\n",
      "           2       0.93      0.86      0.89      7699\n",
      "\n",
      "    accuracy                           0.93     41143\n",
      "   macro avg       0.93      0.92      0.92     41143\n",
      "weighted avg       0.93      0.93      0.93     41143\n",
      "\n"
     ]
    }
   ],
   "source": [
    "# Classification report\n",
    "print(classification_report(true_values, pred_values))"
   ]
  },
  {
   "cell_type": "code",
   "execution_count": 37,
   "metadata": {
    "execution": {
     "iopub.execute_input": "2021-11-16T03:56:39.636160Z",
     "iopub.status.busy": "2021-11-16T03:56:39.635738Z",
     "iopub.status.idle": "2021-11-16T03:56:39.967401Z",
     "shell.execute_reply": "2021-11-16T03:56:39.966720Z",
     "shell.execute_reply.started": "2021-11-16T03:56:39.636122Z"
    }
   },
   "outputs": [
    {
     "data": {
      "image/png": "[encoded data removed]",
      "text/plain": [
       "<Figure size 1440x360 with 2 Axes>"
      ]
     },
     "metadata": {
      "needs_background": "light"
     },
     "output_type": "display_data"
    }
   ],
   "source": [
    "# Calculate confusion matrix\n",
    "conf_mat = confusion_matrix(true_values, pred_values, normalize='true')\n",
    "\n",
    "# Plot confusion matrix\n",
    "fig = plt.figure()\n",
    "ax = fig.add_subplot(111)\n",
    "sns.heatmap(conf_mat, annot=True)\n",
    "labels = [\"positive\", \"negative\", \"neutral\"]\n",
    "ax.set_xticklabels(labels)\n",
    "ax.set_yticklabels(labels)\n",
    "plt.xlabel('Predicted')\n",
    "plt.ylabel('True')\n",
    "plt.show()"
   ]
  },
  {
   "cell_type": "markdown",
   "metadata": {},
   "source": []
  },
  {
   "cell_type": "markdown",
   "metadata": {},
   "source": [
    "# Testing on test data"
   ]
  },
  {
   "cell_type": "code",
   "execution_count": 38,
   "metadata": {
    "execution": {
     "iopub.execute_input": "2021-11-16T03:56:39.968960Z",
     "iopub.status.busy": "2021-11-16T03:56:39.968697Z",
     "iopub.status.idle": "2021-11-16T03:56:41.778016Z",
     "shell.execute_reply": "2021-11-16T03:56:41.777295Z",
     "shell.execute_reply.started": "2021-11-16T03:56:39.968925Z"
    }
   },
   "outputs": [
    {
     "name": "stderr",
     "output_type": "stream",
     "text": [
      "100%|██████████| 3798/3798 [00:01<00:00, 2111.57it/s]\n"
     ]
    }
   ],
   "source": [
    "classifier_lstm.eval()\n",
    "with torch.no_grad():\n",
    "\n",
    "    true_values = []\n",
    "    pred_values = []\n",
    "\n",
    "    # Initialize progress bar\n",
    "    pbar = tqdm(zip(encoded_test_X, test_y), total=len(test_y))\n",
    "    for data, label in pbar:\n",
    "\n",
    "    # Ignore empty sequences\n",
    "        if len(data) == 0:\n",
    "            continue\n",
    "\n",
    "        out = classifier_lstm(data)\n",
    "\n",
    "        # Store the true and predicted labels\n",
    "        true_values.append(label.item())\n",
    "        pred_values.append(torch.argmax(out[0,:]).item())"
   ]
  },
  {
   "cell_type": "code",
   "execution_count": 39,
   "metadata": {
    "execution": {
     "iopub.execute_input": "2021-11-16T03:56:41.779849Z",
     "iopub.status.busy": "2021-11-16T03:56:41.779157Z",
     "iopub.status.idle": "2021-11-16T03:56:41.799004Z",
     "shell.execute_reply": "2021-11-16T03:56:41.798350Z",
     "shell.execute_reply.started": "2021-11-16T03:56:41.779809Z"
    }
   },
   "outputs": [
    {
     "name": "stdout",
     "output_type": "stream",
     "text": [
      "              precision    recall  f1-score   support\n",
      "\n",
      "           0       0.80      0.84      0.82      1546\n",
      "           1       0.81      0.82      0.82      1633\n",
      "           2       0.74      0.65      0.69       619\n",
      "\n",
      "    accuracy                           0.80      3798\n",
      "   macro avg       0.79      0.77      0.78      3798\n",
      "weighted avg       0.80      0.80      0.80      3798\n",
      "\n"
     ]
    }
   ],
   "source": [
    "# Classification report\n",
    "print(classification_report(true_values, pred_values))"
   ]
  },
  {
   "cell_type": "code",
   "execution_count": 40,
   "metadata": {
    "execution": {
     "iopub.execute_input": "2021-11-16T03:56:41.800540Z",
     "iopub.status.busy": "2021-11-16T03:56:41.800226Z",
     "iopub.status.idle": "2021-11-16T03:56:42.069490Z",
     "shell.execute_reply": "2021-11-16T03:56:42.068744Z",
     "shell.execute_reply.started": "2021-11-16T03:56:41.800505Z"
    }
   },
   "outputs": [
    {
     "data": {
      "image/png": "[encoded data removed]",
      "text/plain": [
       "<Figure size 1440x360 with 2 Axes>"
      ]
     },
     "metadata": {
      "needs_background": "light"
     },
     "output_type": "display_data"
    }
   ],
   "source": [
    "# Calculate confusion matrix\n",
    "conf_mat = confusion_matrix(true_values, pred_values, normalize='true')\n",
    "\n",
    "# Plot confusion matrix\n",
    "fig = plt.figure()\n",
    "ax = fig.add_subplot(111)\n",
    "sns.heatmap(conf_mat, annot=True)\n",
    "labels = [\"positive\", \"negative\", \"neutral\"]\n",
    "ax.set_xticklabels(labels)\n",
    "ax.set_yticklabels(labels)\n",
    "plt.xlabel('Predicted')\n",
    "plt.ylabel('True')\n",
    "plt.show()"
   ]
  },
  {
   "cell_type": "markdown",
   "metadata": {
    "id": "sHYHievgheht"
   },
   "source": [
    "# CONCLUSION\n",
    "\n",
    "1. The accuracy of test data is lesser than the training data which denotes some bias towards training data\n",
    "2. The performance of the model is better than the previous models based on TF-IDF and Hash vectors\n",
    "3. The neutral samples are lesser than other classes hence its accuracy is lesser. To improve more neutral samples need to be added to the data\n",
    "3. We can try the following techniques that may give better results <br>\n",
    "   a. Other word embedding techniques like Word2Vec can be used. <br>\n",
    "   b. Number of layers can be increased in the current model. <br>\n",
    "   c. Transformer based models like BERT can be used - It will give better results but will require more data and time to train. "
   ]
  },
  {
   "cell_type": "code",
   "execution_count": null,
   "metadata": {},
   "outputs": [],
   "source": []
  }
 ],
 "metadata": {
  "kernelspec": {
   "display_name": "Python 3",
   "language": "python",
   "name": "python3"
  },
  "language_info": {
   "codemirror_mode": {
    "name": "ipython",
    "version": 3
   },
   "file_extension": ".py",
   "mimetype": "text/x-python",
   "name": "python",
   "nbconvert_exporter": "python",
   "pygments_lexer": "ipython3",
   "version": "3.6.8"
  }
 },
 "nbformat": 4,
 "nbformat_minor": 4
}
