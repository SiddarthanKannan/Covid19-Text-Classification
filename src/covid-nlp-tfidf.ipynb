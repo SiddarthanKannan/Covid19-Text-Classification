{
 "cells": [
  {
   "cell_type": "markdown",
   "metadata": {
    "id": "ZzGNc2r_D1W8"
   },
   "source": [
    "Task : Coronavirus tweets NLP - Text Classification <br>\n",
    "URL : https://www.kaggle.com/datatattle/covid-19-nlp-text-classification <br>\n",
    "Author : Siddarthan <br>\n",
    "Description : This notebook contains the pipeline to preprocess covid NLP data, vectorize the data using TF-IDF and hash based embeddings and train Machine Learning models using the data. The models in this notebook is just for baseline, they are not the final models. <br>\n",
    "Created on : 15-11-2021 <br>\n",
    "Updated on : 16-11-2021 <br>\n"
   ]
  },
  {
   "cell_type": "code",
   "execution_count": 1,
   "metadata": {
    "execution": {
     "iopub.execute_input": "2021-11-16T07:08:06.951748Z",
     "iopub.status.busy": "2021-11-16T07:08:06.950652Z",
     "iopub.status.idle": "2021-11-16T07:08:09.982083Z",
     "shell.execute_reply": "2021-11-16T07:08:09.981137Z",
     "shell.execute_reply.started": "2021-11-16T07:08:06.951644Z"
    },
    "id": "3c8IHLAaB50K"
   },
   "outputs": [],
   "source": [
    "# Import required packages\n",
    "\n",
    "import pandas as pd\n",
    "import numpy as np\n",
    "import torch\n",
    "import nltk\n",
    "import re\n",
    "\n",
    "import matplotlib.pyplot as plt\n",
    "import seaborn as sns\n",
    "\n",
    "from tqdm import tqdm\n",
    "from torch import nn\n",
    "\n",
    "from nltk import word_tokenize\n",
    "from nltk.stem import WordNetLemmatizer\n",
    "\n",
    "from sklearn.metrics import accuracy_score, f1_score, classification_report, confusion_matrix\n",
    "from sklearn.utils.class_weight import compute_class_weight\n",
    "from sklearn.feature_extraction.text import TfidfVectorizer, HashingVectorizer\n",
    "from sklearn.tree import DecisionTreeClassifier\n",
    "from sklearn.ensemble import RandomForestClassifier, ExtraTreesClassifier\n",
    "from sklearn.naive_bayes import MultinomialNB # Suitable for discrete data\n",
    "\n",
    "from xgboost import XGBClassifier"
   ]
  },
  {
   "cell_type": "code",
   "execution_count": 2,
   "metadata": {
    "execution": {
     "iopub.execute_input": "2021-11-16T07:08:09.983993Z",
     "iopub.status.busy": "2021-11-16T07:08:09.983753Z",
     "iopub.status.idle": "2021-11-16T07:08:09.988030Z",
     "shell.execute_reply": "2021-11-16T07:08:09.987254Z",
     "shell.execute_reply.started": "2021-11-16T07:08:09.983962Z"
    },
    "id": "2YfOcnIGC1gg"
   },
   "outputs": [],
   "source": [
    "# Path to csv files\n",
    "\n",
    "train_file = \"../input/covid-19-nlp-text-classification/Corona_NLP_train.csv\"\n",
    "test_file = \"../input/covid-19-nlp-text-classification/Corona_NLP_test.csv\""
   ]
  },
  {
   "cell_type": "code",
   "execution_count": 3,
   "metadata": {
    "execution": {
     "iopub.execute_input": "2021-11-16T07:08:09.989784Z",
     "iopub.status.busy": "2021-11-16T07:08:09.989412Z",
     "iopub.status.idle": "2021-11-16T07:08:10.002853Z",
     "shell.execute_reply": "2021-11-16T07:08:10.002040Z",
     "shell.execute_reply.started": "2021-11-16T07:08:09.989756Z"
    },
    "id": "NkJU6xy7Ohf4",
    "outputId": "dc270f02-7467-4b78-b91f-61cfa0f4e600"
   },
   "outputs": [
    {
     "name": "stdout",
     "output_type": "stream",
     "text": [
      "cpu\n"
     ]
    }
   ],
   "source": [
    "# Select device gpu/cpu\n",
    "\n",
    "device = torch.device(\"cuda:0\" if torch.cuda.is_available() else \"cpu\")\n",
    "print(device)"
   ]
  },
  {
   "cell_type": "markdown",
   "metadata": {
    "id": "TlEZRCI1E_SC"
   },
   "source": [
    "# Data Exploration\n"
   ]
  },
  {
   "cell_type": "code",
   "execution_count": 4,
   "metadata": {
    "execution": {
     "iopub.execute_input": "2021-11-16T07:08:10.004965Z",
     "iopub.status.busy": "2021-11-16T07:08:10.004692Z",
     "iopub.status.idle": "2021-11-16T07:08:10.395593Z",
     "shell.execute_reply": "2021-11-16T07:08:10.394630Z",
     "shell.execute_reply.started": "2021-11-16T07:08:10.004936Z"
    },
    "id": "iBTX_QyACh9W",
    "outputId": "895e41fd-75a0-4209-ab91-ebf4b35b05b9"
   },
   "outputs": [],
   "source": [
    "# Read the csv files\n",
    "train_data = pd.read_csv(train_file, encoding='latin1')\n",
    "test_data = pd.read_csv(test_file, encoding='latin1')"
   ]
  },
  {
   "cell_type": "code",
   "execution_count": 5,
   "metadata": {
    "execution": {
     "iopub.execute_input": "2021-11-16T07:08:10.396962Z",
     "iopub.status.busy": "2021-11-16T07:08:10.396727Z",
     "iopub.status.idle": "2021-11-16T07:08:10.418714Z",
     "shell.execute_reply": "2021-11-16T07:08:10.417855Z",
     "shell.execute_reply.started": "2021-11-16T07:08:10.396935Z"
    },
    "id": "Qx11Me2FCxPV"
   },
   "outputs": [
    {
     "data": {
      "text/html": [
       "<div>\n",
       "<style scoped>\n",
       "    .dataframe tbody tr th:only-of-type {\n",
       "        vertical-align: middle;\n",
       "    }\n",
       "\n",
       "    .dataframe tbody tr th {\n",
       "        vertical-align: top;\n",
       "    }\n",
       "\n",
       "    .dataframe thead th {\n",
       "        text-align: right;\n",
       "    }\n",
       "</style>\n",
       "<table border=\"1\" class=\"dataframe\">\n",
       "  <thead>\n",
       "    <tr style=\"text-align: right;\">\n",
       "      <th></th>\n",
       "      <th>UserName</th>\n",
       "      <th>ScreenName</th>\n",
       "      <th>Location</th>\n",
       "      <th>TweetAt</th>\n",
       "      <th>OriginalTweet</th>\n",
       "      <th>Sentiment</th>\n",
       "    </tr>\n",
       "  </thead>\n",
       "  <tbody>\n",
       "    <tr>\n",
       "      <th>0</th>\n",
       "      <td>3799</td>\n",
       "      <td>48751</td>\n",
       "      <td>London</td>\n",
       "      <td>16-03-2020</td>\n",
       "      <td>@MeNyrbie @Phil_Gahan @Chrisitv https://t.co/i...</td>\n",
       "      <td>Neutral</td>\n",
       "    </tr>\n",
       "    <tr>\n",
       "      <th>1</th>\n",
       "      <td>3800</td>\n",
       "      <td>48752</td>\n",
       "      <td>UK</td>\n",
       "      <td>16-03-2020</td>\n",
       "      <td>advice Talk to your neighbours family to excha...</td>\n",
       "      <td>Positive</td>\n",
       "    </tr>\n",
       "    <tr>\n",
       "      <th>2</th>\n",
       "      <td>3801</td>\n",
       "      <td>48753</td>\n",
       "      <td>Vagabonds</td>\n",
       "      <td>16-03-2020</td>\n",
       "      <td>Coronavirus Australia: Woolworths to give elde...</td>\n",
       "      <td>Positive</td>\n",
       "    </tr>\n",
       "    <tr>\n",
       "      <th>3</th>\n",
       "      <td>3802</td>\n",
       "      <td>48754</td>\n",
       "      <td>NaN</td>\n",
       "      <td>16-03-2020</td>\n",
       "      <td>My food stock is not the only one which is emp...</td>\n",
       "      <td>Positive</td>\n",
       "    </tr>\n",
       "    <tr>\n",
       "      <th>4</th>\n",
       "      <td>3803</td>\n",
       "      <td>48755</td>\n",
       "      <td>NaN</td>\n",
       "      <td>16-03-2020</td>\n",
       "      <td>Me, ready to go at supermarket during the #COV...</td>\n",
       "      <td>Extremely Negative</td>\n",
       "    </tr>\n",
       "  </tbody>\n",
       "</table>\n",
       "</div>"
      ],
      "text/plain": [
       "   UserName  ScreenName   Location     TweetAt  \\\n",
       "0      3799       48751     London  16-03-2020   \n",
       "1      3800       48752         UK  16-03-2020   \n",
       "2      3801       48753  Vagabonds  16-03-2020   \n",
       "3      3802       48754        NaN  16-03-2020   \n",
       "4      3803       48755        NaN  16-03-2020   \n",
       "\n",
       "                                       OriginalTweet           Sentiment  \n",
       "0  @MeNyrbie @Phil_Gahan @Chrisitv https://t.co/i...             Neutral  \n",
       "1  advice Talk to your neighbours family to excha...            Positive  \n",
       "2  Coronavirus Australia: Woolworths to give elde...            Positive  \n",
       "3  My food stock is not the only one which is emp...            Positive  \n",
       "4  Me, ready to go at supermarket during the #COV...  Extremely Negative  "
      ]
     },
     "execution_count": 5,
     "metadata": {},
     "output_type": "execute_result"
    }
   ],
   "source": [
    "train_data.head()"
   ]
  },
  {
   "cell_type": "code",
   "execution_count": 6,
   "metadata": {
    "execution": {
     "iopub.execute_input": "2021-11-16T07:08:10.420837Z",
     "iopub.status.busy": "2021-11-16T07:08:10.419985Z",
     "iopub.status.idle": "2021-11-16T07:08:10.431713Z",
     "shell.execute_reply": "2021-11-16T07:08:10.430711Z",
     "shell.execute_reply.started": "2021-11-16T07:08:10.420803Z"
    },
    "id": "7cTqoCYXDSqn"
   },
   "outputs": [
    {
     "data": {
      "text/html": [
       "<div>\n",
       "<style scoped>\n",
       "    .dataframe tbody tr th:only-of-type {\n",
       "        vertical-align: middle;\n",
       "    }\n",
       "\n",
       "    .dataframe tbody tr th {\n",
       "        vertical-align: top;\n",
       "    }\n",
       "\n",
       "    .dataframe thead th {\n",
       "        text-align: right;\n",
       "    }\n",
       "</style>\n",
       "<table border=\"1\" class=\"dataframe\">\n",
       "  <thead>\n",
       "    <tr style=\"text-align: right;\">\n",
       "      <th></th>\n",
       "      <th>UserName</th>\n",
       "      <th>ScreenName</th>\n",
       "      <th>Location</th>\n",
       "      <th>TweetAt</th>\n",
       "      <th>OriginalTweet</th>\n",
       "      <th>Sentiment</th>\n",
       "    </tr>\n",
       "  </thead>\n",
       "  <tbody>\n",
       "    <tr>\n",
       "      <th>0</th>\n",
       "      <td>1</td>\n",
       "      <td>44953</td>\n",
       "      <td>NYC</td>\n",
       "      <td>02-03-2020</td>\n",
       "      <td>TRENDING: New Yorkers encounter empty supermar...</td>\n",
       "      <td>Extremely Negative</td>\n",
       "    </tr>\n",
       "    <tr>\n",
       "      <th>1</th>\n",
       "      <td>2</td>\n",
       "      <td>44954</td>\n",
       "      <td>Seattle, WA</td>\n",
       "      <td>02-03-2020</td>\n",
       "      <td>When I couldn't find hand sanitizer at Fred Me...</td>\n",
       "      <td>Positive</td>\n",
       "    </tr>\n",
       "    <tr>\n",
       "      <th>2</th>\n",
       "      <td>3</td>\n",
       "      <td>44955</td>\n",
       "      <td>NaN</td>\n",
       "      <td>02-03-2020</td>\n",
       "      <td>Find out how you can protect yourself and love...</td>\n",
       "      <td>Extremely Positive</td>\n",
       "    </tr>\n",
       "    <tr>\n",
       "      <th>3</th>\n",
       "      <td>4</td>\n",
       "      <td>44956</td>\n",
       "      <td>Chicagoland</td>\n",
       "      <td>02-03-2020</td>\n",
       "      <td>#Panic buying hits #NewYork City as anxious sh...</td>\n",
       "      <td>Negative</td>\n",
       "    </tr>\n",
       "    <tr>\n",
       "      <th>4</th>\n",
       "      <td>5</td>\n",
       "      <td>44957</td>\n",
       "      <td>Melbourne, Victoria</td>\n",
       "      <td>03-03-2020</td>\n",
       "      <td>#toiletpaper #dunnypaper #coronavirus #coronav...</td>\n",
       "      <td>Neutral</td>\n",
       "    </tr>\n",
       "  </tbody>\n",
       "</table>\n",
       "</div>"
      ],
      "text/plain": [
       "   UserName  ScreenName             Location     TweetAt  \\\n",
       "0         1       44953                  NYC  02-03-2020   \n",
       "1         2       44954          Seattle, WA  02-03-2020   \n",
       "2         3       44955                  NaN  02-03-2020   \n",
       "3         4       44956          Chicagoland  02-03-2020   \n",
       "4         5       44957  Melbourne, Victoria  03-03-2020   \n",
       "\n",
       "                                       OriginalTweet           Sentiment  \n",
       "0  TRENDING: New Yorkers encounter empty supermar...  Extremely Negative  \n",
       "1  When I couldn't find hand sanitizer at Fred Me...            Positive  \n",
       "2  Find out how you can protect yourself and love...  Extremely Positive  \n",
       "3  #Panic buying hits #NewYork City as anxious sh...            Negative  \n",
       "4  #toiletpaper #dunnypaper #coronavirus #coronav...             Neutral  "
      ]
     },
     "execution_count": 6,
     "metadata": {},
     "output_type": "execute_result"
    }
   ],
   "source": [
    "test_data.head()"
   ]
  },
  {
   "cell_type": "code",
   "execution_count": 7,
   "metadata": {
    "execution": {
     "iopub.execute_input": "2021-11-16T07:08:10.433893Z",
     "iopub.status.busy": "2021-11-16T07:08:10.433547Z",
     "iopub.status.idle": "2021-11-16T07:08:10.894599Z",
     "shell.execute_reply": "2021-11-16T07:08:10.893689Z",
     "shell.execute_reply.started": "2021-11-16T07:08:10.433851Z"
    },
    "id": "i7yyEc_-R4ZD"
   },
   "outputs": [
    {
     "data": {
      "image/png": "[encoded data removed]",
      "text/plain": [
       "<Figure size 1440x360 with 1 Axes>"
      ]
     },
     "metadata": {
      "needs_background": "light"
     },
     "output_type": "display_data"
    }
   ],
   "source": [
    "# Top locations of the tweets\n",
    "location = train_data['Location'].value_counts().nlargest(20)\n",
    "plt.rcParams[\"figure.figsize\"] = (20,5)\n",
    "plt.bar(location.index, location.values)\n",
    "plt.xticks(location.index, rotation='vertical')\n",
    "for idx, val in enumerate(location):\n",
    "    plt.text(idx-0.2, val+5, str(val))\n",
    "plt.show()"
   ]
  },
  {
   "cell_type": "code",
   "execution_count": 8,
   "metadata": {
    "execution": {
     "iopub.execute_input": "2021-11-16T07:08:10.896067Z",
     "iopub.status.busy": "2021-11-16T07:08:10.895842Z",
     "iopub.status.idle": "2021-11-16T07:08:11.044702Z",
     "shell.execute_reply": "2021-11-16T07:08:11.043819Z",
     "shell.execute_reply.started": "2021-11-16T07:08:10.896040Z"
    },
    "id": "3Nx2THsVR4jN"
   },
   "outputs": [
    {
     "data": {
      "image/png": "[encoded data removed]",
      "text/plain": [
       "<Figure size 1440x360 with 1 Axes>"
      ]
     },
     "metadata": {},
     "output_type": "display_data"
    }
   ],
   "source": [
    "# Tweets originated from London (Top location)\n",
    "extreme_positive_tweets = len(train_data[(train_data[\"Location\"] == \"London\") & (train_data[\"Sentiment\"] == \"Extremely Positive\")])\n",
    "positive_tweets = len(train_data[(train_data[\"Location\"] == \"London\") & (train_data[\"Sentiment\"] == \"Positive\")])\n",
    "neutral_tweets = len(train_data[(train_data[\"Location\"] == \"London\") & (train_data[\"Sentiment\"] == \"Neutral\")])\n",
    "negative_tweets = len(train_data[(train_data[\"Location\"] == \"London\") & (train_data[\"Sentiment\"] == \"Negative\")])\n",
    "extreme_negative_tweets = len(train_data[(train_data[\"Location\"] == \"London\") & (train_data[\"Sentiment\"] == \"Extremely Negative\")])\n",
    "\n",
    "labels = [\"extremely positive\", \"positive\", \"neutral\", \"negative\", \"extremely negative\"]\n",
    "plt.pie([extreme_positive_tweets, positive_tweets, neutral_tweets, negative_tweets, extreme_negative_tweets],\n",
    "        labels=labels, autopct='%1.0f%%')\n",
    "plt.title(\"Tweets from London\")\n",
    "plt.show()\n"
   ]
  },
  {
   "cell_type": "code",
   "execution_count": 9,
   "metadata": {
    "execution": {
     "iopub.execute_input": "2021-11-16T07:08:11.046714Z",
     "iopub.status.busy": "2021-11-16T07:08:11.046381Z",
     "iopub.status.idle": "2021-11-16T07:08:11.186744Z",
     "shell.execute_reply": "2021-11-16T07:08:11.185874Z",
     "shell.execute_reply.started": "2021-11-16T07:08:11.046669Z"
    },
    "id": "ca3aOFDxckxv"
   },
   "outputs": [
    {
     "data": {
      "image/png": "[encoded data removed]",
      "text/plain": [
       "<Figure size 1440x360 with 1 Axes>"
      ]
     },
     "metadata": {},
     "output_type": "display_data"
    }
   ],
   "source": [
    "# Tweets originated from India\n",
    "extreme_positive_tweets = len(train_data[(train_data[\"Location\"] == \"India\") & (train_data[\"Sentiment\"] == \"Extremely Positive\")])\n",
    "positive_tweets = len(train_data[(train_data[\"Location\"] == \"India\") & (train_data[\"Sentiment\"] == \"Positive\")])\n",
    "neutral_tweets = len(train_data[(train_data[\"Location\"] == \"India\") & (train_data[\"Sentiment\"] == \"Neutral\")])\n",
    "negative_tweets = len(train_data[(train_data[\"Location\"] == \"India\") & (train_data[\"Sentiment\"] == \"Negative\")])\n",
    "extreme_negative_tweets = len(train_data[(train_data[\"Location\"] == \"India\") & (train_data[\"Sentiment\"] == \"Extremely Negative\")])\n",
    "\n",
    "labels = [\"extremely positive\", \"positive\", \"neutral\", \"negative\", \"extremely negative\"]\n",
    "plt.pie([extreme_positive_tweets, positive_tweets, neutral_tweets, negative_tweets, extreme_negative_tweets],\n",
    "        labels=labels, autopct='%1.0f%%')\n",
    "plt.title(\"Tweets from India\")\n",
    "plt.show()"
   ]
  },
  {
   "cell_type": "code",
   "execution_count": 10,
   "metadata": {
    "execution": {
     "iopub.execute_input": "2021-11-16T07:08:11.190645Z",
     "iopub.status.busy": "2021-11-16T07:08:11.190413Z",
     "iopub.status.idle": "2021-11-16T07:08:11.317117Z",
     "shell.execute_reply": "2021-11-16T07:08:11.316089Z",
     "shell.execute_reply.started": "2021-11-16T07:08:11.190619Z"
    },
    "id": "Z-XlBSkZeASH"
   },
   "outputs": [
    {
     "data": {
      "image/png": "[encoded data removed]",
      "text/plain": [
       "<Figure size 1440x360 with 1 Axes>"
      ]
     },
     "metadata": {},
     "output_type": "display_data"
    }
   ],
   "source": [
    "# Tweets originated from all locations\n",
    "extreme_positive_tweets = len(train_data[train_data[\"Sentiment\"] == \"Extremely Positive\"])\n",
    "positive_tweets = len(train_data[train_data[\"Sentiment\"] == \"Positive\"])\n",
    "neutral_tweets = len(train_data[train_data[\"Sentiment\"] == \"Neutral\"])\n",
    "negative_tweets = len(train_data[train_data[\"Sentiment\"] == \"Negative\"])\n",
    "extreme_negative_tweets = len(train_data[train_data[\"Sentiment\"] == \"Extremely Negative\"])\n",
    "\n",
    "labels = [\"extremely positive\", \"positive\", \"neutral\", \"negative\", \"extremely negative\"]\n",
    "plt.pie([extreme_positive_tweets, positive_tweets, neutral_tweets, negative_tweets, extreme_negative_tweets],\n",
    "        labels=labels, autopct='%1.0f%%')\n",
    "plt.title(\"Labels of all tweets\")\n",
    "plt.show()"
   ]
  },
  {
   "cell_type": "code",
   "execution_count": 11,
   "metadata": {
    "execution": {
     "iopub.execute_input": "2021-11-16T07:08:11.319151Z",
     "iopub.status.busy": "2021-11-16T07:08:11.318812Z",
     "iopub.status.idle": "2021-11-16T07:08:11.338819Z",
     "shell.execute_reply": "2021-11-16T07:08:11.337855Z",
     "shell.execute_reply.started": "2021-11-16T07:08:11.319076Z"
    },
    "id": "N1e3ezGQc5KF"
   },
   "outputs": [
    {
     "data": {
      "text/plain": [
       "UserName            0\n",
       "ScreenName          0\n",
       "Location         8590\n",
       "TweetAt             0\n",
       "OriginalTweet       0\n",
       "Sentiment           0\n",
       "dtype: int64"
      ]
     },
     "execution_count": 11,
     "metadata": {},
     "output_type": "execute_result"
    }
   ],
   "source": [
    "# Check for missing values in training data\n",
    "train_data.isna().sum()"
   ]
  },
  {
   "cell_type": "code",
   "execution_count": 12,
   "metadata": {
    "execution": {
     "iopub.execute_input": "2021-11-16T07:08:11.340500Z",
     "iopub.status.busy": "2021-11-16T07:08:11.340178Z",
     "iopub.status.idle": "2021-11-16T07:08:11.351926Z",
     "shell.execute_reply": "2021-11-16T07:08:11.350860Z",
     "shell.execute_reply.started": "2021-11-16T07:08:11.340459Z"
    },
    "id": "gUjUztBedISv"
   },
   "outputs": [
    {
     "data": {
      "text/plain": [
       "UserName           0\n",
       "ScreenName         0\n",
       "Location         834\n",
       "TweetAt            0\n",
       "OriginalTweet      0\n",
       "Sentiment          0\n",
       "dtype: int64"
      ]
     },
     "execution_count": 12,
     "metadata": {},
     "output_type": "execute_result"
    }
   ],
   "source": [
    "# Check for missing values in test data\n",
    "test_data.isna().sum()"
   ]
  },
  {
   "cell_type": "code",
   "execution_count": 13,
   "metadata": {
    "execution": {
     "iopub.execute_input": "2021-11-16T07:08:11.355480Z",
     "iopub.status.busy": "2021-11-16T07:08:11.355235Z",
     "iopub.status.idle": "2021-11-16T07:08:11.381710Z",
     "shell.execute_reply": "2021-11-16T07:08:11.380806Z",
     "shell.execute_reply.started": "2021-11-16T07:08:11.355451Z"
    },
    "id": "qb1BVxz_dNNM"
   },
   "outputs": [
    {
     "name": "stdout",
     "output_type": "stream",
     "text": [
      "Total tweets 41157\n",
      "Unique tweets 41157\n"
     ]
    }
   ],
   "source": [
    "# Check for duplicate tweets\n",
    "print(\"Total tweets\", len(train_data[\"OriginalTweet\"]))\n",
    "print(\"Unique tweets\", len(set(train_data[\"OriginalTweet\"])))"
   ]
  },
  {
   "cell_type": "markdown",
   "metadata": {
    "id": "MqNzLhAnLgu_"
   },
   "source": [
    "The following observations were obtained from data exploration\n",
    "\n",
    "1. The data under the header 'OriginalTweet' can be used as input data.\n",
    "2. The data under the header 'Sentiment' can be used as the labels to predict.\n",
    "3. The other columns can be removed.\n",
    "4. Missing values are present only in the 'Location' column which is removed.\n",
    "5. No duplicate tweets are found.\n",
    "6. Five sentiments are labelled namely neutral, positive, extremely positive, negative and extremely negative\n",
    "7. Sentiments can be reduced to three <br>\n",
    "   a. positive (positive + extremely positive) <br>\n",
    "   b. negative (negative + extremely negative) <br>\n",
    "   c. neutral <br>\n",
    "   (Positive and extremely positive will have similar context hence may not be differentiated easily by the model and it is the same for negative and extremely negative)"
   ]
  },
  {
   "cell_type": "markdown",
   "metadata": {
    "id": "DPLk0lk1Fbzy"
   },
   "source": [
    "# Data Cleaning and transformation"
   ]
  },
  {
   "cell_type": "code",
   "execution_count": 14,
   "metadata": {
    "execution": {
     "iopub.execute_input": "2021-11-16T07:08:11.382976Z",
     "iopub.status.busy": "2021-11-16T07:08:11.382689Z",
     "iopub.status.idle": "2021-11-16T07:08:11.396526Z",
     "shell.execute_reply": "2021-11-16T07:08:11.395822Z",
     "shell.execute_reply.started": "2021-11-16T07:08:11.382946Z"
    },
    "id": "c8mxEsHoDUz5"
   },
   "outputs": [],
   "source": [
    "# Filter the required columns\n",
    "\n",
    "train_data = train_data[[\"OriginalTweet\", \"Sentiment\"]]\n",
    "test_data = test_data[[\"OriginalTweet\", \"Sentiment\"]]"
   ]
  },
  {
   "cell_type": "markdown",
   "metadata": {
    "id": "4mLs-a9HF8Ym"
   },
   "source": [
    "## Sentiment label preparation"
   ]
  },
  {
   "cell_type": "code",
   "execution_count": 15,
   "metadata": {
    "execution": {
     "iopub.execute_input": "2021-11-16T07:08:11.398509Z",
     "iopub.status.busy": "2021-11-16T07:08:11.398197Z",
     "iopub.status.idle": "2021-11-16T07:08:11.414928Z",
     "shell.execute_reply": "2021-11-16T07:08:11.414261Z",
     "shell.execute_reply.started": "2021-11-16T07:08:11.398467Z"
    },
    "id": "I7jYi9kwFMef"
   },
   "outputs": [
    {
     "data": {
      "text/plain": [
       "Positive              11422\n",
       "Negative               9917\n",
       "Neutral                7713\n",
       "Extremely Positive     6624\n",
       "Extremely Negative     5481\n",
       "Name: Sentiment, dtype: int64"
      ]
     },
     "execution_count": 15,
     "metadata": {},
     "output_type": "execute_result"
    }
   ],
   "source": [
    "train_data[\"Sentiment\"].value_counts()"
   ]
  },
  {
   "cell_type": "code",
   "execution_count": 16,
   "metadata": {
    "execution": {
     "iopub.execute_input": "2021-11-16T07:08:11.416051Z",
     "iopub.status.busy": "2021-11-16T07:08:11.415851Z",
     "iopub.status.idle": "2021-11-16T07:08:11.424432Z",
     "shell.execute_reply": "2021-11-16T07:08:11.423577Z",
     "shell.execute_reply.started": "2021-11-16T07:08:11.416027Z"
    },
    "id": "AsVgjPjlGULU"
   },
   "outputs": [
    {
     "data": {
      "text/plain": [
       "Negative              1041\n",
       "Positive               947\n",
       "Neutral                619\n",
       "Extremely Positive     599\n",
       "Extremely Negative     592\n",
       "Name: Sentiment, dtype: int64"
      ]
     },
     "execution_count": 16,
     "metadata": {},
     "output_type": "execute_result"
    }
   ],
   "source": [
    "test_data[\"Sentiment\"].value_counts()"
   ]
  },
  {
   "cell_type": "markdown",
   "metadata": {},
   "source": [
    "#### Positive and Extremely positive can be combined to a same class. Negative and Extremely negative can be combined to a same class.\n",
    "#### This is due to the following reasons\n",
    "1. Number of samples in each class in less. Hence the model may not learn the features properly\n",
    "2. The context of Positive and Extremely positive samples will be similar. Hence the model may not differentiate between them. (A more complex model with more number of samples will be required to differentiate properly)"
   ]
  },
  {
   "cell_type": "code",
   "execution_count": 17,
   "metadata": {
    "execution": {
     "iopub.execute_input": "2021-11-16T07:08:11.425750Z",
     "iopub.status.busy": "2021-11-16T07:08:11.425513Z",
     "iopub.status.idle": "2021-11-16T07:08:11.435178Z",
     "shell.execute_reply": "2021-11-16T07:08:11.434438Z",
     "shell.execute_reply.started": "2021-11-16T07:08:11.425724Z"
    },
    "id": "ydhA1TNFGmOq"
   },
   "outputs": [],
   "source": [
    "# Dictionary of labels and their integer values\n",
    "label_index = {\n",
    "    \"Positive\" : 0,\n",
    "    \"Negative\" : 1,\n",
    "    \"Neutral\"  : 2,\n",
    "    \"Extremely Positive\" : 0,\n",
    "    \"Extremely Negative\" : 1\n",
    "}"
   ]
  },
  {
   "cell_type": "code",
   "execution_count": 18,
   "metadata": {
    "execution": {
     "iopub.execute_input": "2021-11-16T07:08:11.436318Z",
     "iopub.status.busy": "2021-11-16T07:08:11.436042Z",
     "iopub.status.idle": "2021-11-16T07:08:11.600109Z",
     "shell.execute_reply": "2021-11-16T07:08:11.599243Z",
     "shell.execute_reply.started": "2021-11-16T07:08:11.436289Z"
    },
    "id": "Yp6_lPqYGWln"
   },
   "outputs": [],
   "source": [
    "# Convert the training labels to tensor values\n",
    "train_y = []\n",
    "for label in train_data[\"Sentiment\"]:\n",
    "    train_y.append(torch.tensor([label_index[label]], dtype=torch.long, device=device))"
   ]
  },
  {
   "cell_type": "code",
   "execution_count": 19,
   "metadata": {
    "execution": {
     "iopub.execute_input": "2021-11-16T07:08:11.602745Z",
     "iopub.status.busy": "2021-11-16T07:08:11.602424Z",
     "iopub.status.idle": "2021-11-16T07:08:11.624957Z",
     "shell.execute_reply": "2021-11-16T07:08:11.624109Z",
     "shell.execute_reply.started": "2021-11-16T07:08:11.602703Z"
    },
    "id": "FkgbrsI7Gkak"
   },
   "outputs": [],
   "source": [
    "# Convert the test labels to tensor values\n",
    "test_y = []\n",
    "for label in test_data[\"Sentiment\"]:\n",
    "    test_y.append(torch.tensor([label_index[label]], dtype=torch.long, device=device))"
   ]
  },
  {
   "cell_type": "code",
   "execution_count": 20,
   "metadata": {
    "execution": {
     "iopub.execute_input": "2021-11-16T07:08:11.626726Z",
     "iopub.status.busy": "2021-11-16T07:08:11.626446Z",
     "iopub.status.idle": "2021-11-16T07:08:11.831454Z",
     "shell.execute_reply": "2021-11-16T07:08:11.830290Z",
     "shell.execute_reply.started": "2021-11-16T07:08:11.626694Z"
    },
    "id": "mrNUFZXEJFID"
   },
   "outputs": [
    {
     "name": "stdout",
     "output_type": "stream",
     "text": [
      "3\n",
      "{0: 0.7602238723262773, 1: 0.8909598649175218, 2: 1.778685336444963}\n"
     ]
    },
    {
     "data": {
      "image/png": "[encoded data removed]",
      "text/plain": [
       "<Figure size 1440x360 with 1 Axes>"
      ]
     },
     "metadata": {
      "needs_background": "light"
     },
     "output_type": "display_data"
    }
   ],
   "source": [
    "# Number of classes in the data\n",
    "n_classes = len(set([item.item() for item in train_y]))\n",
    "print(n_classes)\n",
    "\n",
    "# Calculate class weights\n",
    "labels = [label.item() for label in train_y]\n",
    "class_weights = dict(zip(np.unique(labels), compute_class_weight(\"balanced\", classes=np.unique(labels), y=labels)))\n",
    "print(class_weights)\n",
    "\n",
    "# Number of samples in each class\n",
    "plt.bar([\"positive\", \"negative\", \"neutral\"],[labels.count(0), labels.count(1), labels.count(2)])\n",
    "for idx, val in enumerate([labels.count(0), labels.count(1), labels.count(2)]):\n",
    "    plt.text(idx-0.1, val+100, str(val))\n",
    "plt.show()"
   ]
  },
  {
   "cell_type": "markdown",
   "metadata": {},
   "source": [
    "#### From the data distribution, we can say that the model may learn the positive and negative samples properly since they are more in number compared to the neutral samples\n",
    "#### Due to class imbalance, we can use class weights while calculating loss to given more importance to class with less number of samples\n"
   ]
  },
  {
   "cell_type": "markdown",
   "metadata": {
    "id": "HdMliecgGApK"
   },
   "source": [
    "## Input data preparation"
   ]
  },
  {
   "cell_type": "markdown",
   "metadata": {},
   "source": [
    "### Data Cleaning"
   ]
  },
  {
   "cell_type": "markdown",
   "metadata": {},
   "source": [
    "Data cleaning techniques used\n",
    "1. Removing urls since url does not contain any relevant information\n",
    "2. Remove emoji and symbols\n",
    "3. Expand words Ex. shouldn't -> should not - this will avoid duplicate embeddings (different embeddings for shouldn't and should not will affect the model performance)\n",
    "4. Separate alphabets and numbers - it will split texts like 'abcd123' to 'abc', '123'\n",
    "5. Truncate repeated single characters\n",
    "6. Remove special characters - it will remove @ and # symbols that are commonly used in tweets\n",
    "7. Convert to lower case"
   ]
  },
  {
   "cell_type": "code",
   "execution_count": 21,
   "metadata": {
    "execution": {
     "iopub.execute_input": "2021-11-16T07:08:11.833624Z",
     "iopub.status.busy": "2021-11-16T07:08:11.833274Z",
     "iopub.status.idle": "2021-11-16T07:08:15.159060Z",
     "shell.execute_reply": "2021-11-16T07:08:15.157997Z",
     "shell.execute_reply.started": "2021-11-16T07:08:11.833581Z"
    }
   },
   "outputs": [],
   "source": [
    "# Clean text\n",
    "\n",
    "def remove_url(text):\n",
    "    \"\"\"\n",
    "    Function to remove URL from the data\n",
    "    \"\"\"\n",
    "    url = re.compile(r'https?://\\S+|www\\.\\S+')\n",
    "    return url.sub(r'',text)\n",
    "\n",
    "def remove_emoji(text):\n",
    "    \"\"\"\n",
    "    Function to remove the emojis from the data\n",
    "    Ref : https://gist.github.com/slowkow/7a7f61f495e3dbb7e3d767f97bd7304b\n",
    "    \"\"\"\n",
    "\n",
    "    emoji_pattern = re.compile(\"[\"\n",
    "                               u\"\\U0001F600-\\U0001F64F\"  # emoticons\n",
    "                               u\"\\U0001F300-\\U0001F5FF\"  # symbols & pictographs\n",
    "                               u\"\\U0001F680-\\U0001F6FF\"  # transport & map symbols\n",
    "                               u\"\\U0001F1E0-\\U0001F1FF\"  # flags (iOS)\n",
    "                               u\"\\U00002500-\\U00002BEF\"  # chinese char\n",
    "                               u\"\\U00002702-\\U000027B0\"\n",
    "                               u\"\\U00002702-\\U000027B0\"\n",
    "                               u\"\\U000024C2-\\U0001F251\"\n",
    "                               u\"\\U0001f926-\\U0001f937\"\n",
    "                               u\"\\U00010000-\\U0010ffff\"\n",
    "                               u\"\\u2640-\\u2642\"\n",
    "                               u\"\\u2600-\\u2B55\"\n",
    "                               u\"\\u200d\"\n",
    "                               u\"\\u23cf\"\n",
    "                               u\"\\u23e9\"\n",
    "                               u\"\\u231a\"\n",
    "                               u\"\\ufe0f\"  # dingbats\n",
    "                               u\"\\u3030\"\n",
    "                               \"]+\", flags=re.UNICODE)\n",
    "    return emoji_pattern.sub(r'', text)\n",
    "\n",
    "def expand(text):\n",
    "    \"\"\"\n",
    "    Function to expand the words commonly used in English\n",
    "    \"\"\"\n",
    "    text = re.sub(r\"won\\'t\", \" will not\", text)\n",
    "    text = re.sub(r\"won\\'t've\", \" will not have\", text)\n",
    "    text = re.sub(r\"can\\'t\", \" can not\", text)\n",
    "    text = re.sub(r\"don\\'t\", \" do not\", text)\n",
    "    \n",
    "    text = re.sub(r\"can\\'t've\", \" can not have\", text)\n",
    "    text = re.sub(r\"ma\\'am\", \" madam\", text)\n",
    "    text = re.sub(r\"let\\'s\", \" let us\", text)\n",
    "    text = re.sub(r\"ain\\'t\", \" am not\", text)\n",
    "    text = re.sub(r\"shan\\'t\", \" shall not\", text)\n",
    "    text = re.sub(r\"sha\\n't\", \" shall not\", text)\n",
    "    text = re.sub(r\"o\\'clock\", \" of the clock\", text)\n",
    "    text = re.sub(r\"y\\'all\", \" you all\", text)\n",
    "    \n",
    "    text = re.sub(r\"n\\'t\", \" not\", text)\n",
    "    text = re.sub(r\"n\\'t've\", \" not have\", text)\n",
    "    text = re.sub(r\"\\'re\", \" are\", text)\n",
    "    text = re.sub(r\"\\'s\", \" is\", text)\n",
    "    text = re.sub(r\"\\'d\", \" would\", text)\n",
    "    text = re.sub(r\"\\'d've\", \" would have\", text)\n",
    "    text = re.sub(r\"\\'ll\", \" will\", text)\n",
    "    text = re.sub(r\"\\'ll've\", \" will have\", text)\n",
    "    text = re.sub(r\"\\'t\", \" not\", text)\n",
    "    text = re.sub(r\"\\'ve\", \" have\", text)\n",
    "    text = re.sub(r\"\\'m\", \" am\", text)\n",
    "    text = re.sub(r\"\\'re\", \" are\", text)\n",
    "    return text\n",
    "\n",
    "def seperate_alphanumeric(text):\n",
    "    \"\"\"\n",
    "    Function to separate alphabets and numbers that are found together\n",
    "    in the text\n",
    "    \"\"\"\n",
    "    words = text\n",
    "    words = re.findall(r\"[^\\W\\d_]+|\\d+\", words)\n",
    "    return \" \".join(words)\n",
    "    \n",
    "def cont_rep_char(text):\n",
    "    \"\"\"\n",
    "    Find repeating character\n",
    "    \"\"\"\n",
    "    tchr = text.group(0)\n",
    "    if len(tchr) > 1:\n",
    "        return tchr[0:2]\n",
    "    \n",
    "def unique_char(rep, text):\n",
    "    \"\"\"\n",
    "    Substitue repeating character with rep in text\n",
    "    \"\"\"\n",
    "    sub = re.sub(r'(\\w)\\1+', rep, text)\n",
    "    return sub\n",
    "\n",
    "def special_char(text):\n",
    "    \"\"\"\n",
    "    Remove special characters other than alphabets\n",
    "    \"\"\"\n",
    "    return re.sub(r'[^a-zA-Z]',' ',text)\n",
    "\n",
    "# Apply functions on the training data\n",
    "train_data['OriginalTweet'] = [remove_url(data) for data in train_data['OriginalTweet']]\n",
    "train_data['OriginalTweet'] = [remove_emoji(data) for data in train_data['OriginalTweet']]\n",
    "train_data['OriginalTweet'] = [expand(data) for data in train_data['OriginalTweet']]\n",
    "train_data['OriginalTweet'] = [seperate_alphanumeric(data) for data in train_data['OriginalTweet']]\n",
    "train_data['OriginalTweet'] = [unique_char(cont_rep_char, data) for data in train_data['OriginalTweet']]\n",
    "train_data['OriginalTweet'] = [special_char(data) for data in train_data['OriginalTweet']]\n",
    "train_data['OriginalTweet'] = [data.lower() for data in train_data['OriginalTweet']]\n",
    "\n",
    "# Apply functions on the test data\n",
    "test_data['OriginalTweet'] = [remove_url(data) for data in test_data['OriginalTweet']]\n",
    "test_data['OriginalTweet'] = [remove_emoji(data) for data in test_data['OriginalTweet']]\n",
    "test_data['OriginalTweet'] = [expand(data) for data in test_data['OriginalTweet']]\n",
    "test_data['OriginalTweet'] = [seperate_alphanumeric(data) for data in test_data['OriginalTweet']]\n",
    "test_data['OriginalTweet'] = [unique_char(cont_rep_char, data) for data in test_data['OriginalTweet']]\n",
    "test_data['OriginalTweet'] = [special_char(data) for data in test_data['OriginalTweet']]\n",
    "test_data['OriginalTweet'] = [data.lower() for data in test_data['OriginalTweet']]\n"
   ]
  },
  {
   "cell_type": "markdown",
   "metadata": {},
   "source": [
    "# TF-IDF"
   ]
  },
  {
   "cell_type": "markdown",
   "metadata": {},
   "source": [
    "### Data Vectorization\n",
    "\n",
    "#### Main Objective of this step is to convert the sequence to tokens to feature vector of fixed size\n",
    "\n",
    "The following steps are carried out\n",
    "1. The input sequence is tokenized and lemmatized\n",
    "2. The lemmatized sequence is vectorized using TF-IDF\n",
    "\n",
    "We will obtain\n",
    "1. Vectorized training data of fixed size\n",
    "2. Vectorized test data of fixed size"
   ]
  },
  {
   "cell_type": "code",
   "execution_count": 22,
   "metadata": {
    "execution": {
     "iopub.execute_input": "2021-11-16T07:08:15.160651Z",
     "iopub.status.busy": "2021-11-16T07:08:15.160409Z",
     "iopub.status.idle": "2021-11-16T07:08:15.165302Z",
     "shell.execute_reply": "2021-11-16T07:08:15.164351Z",
     "shell.execute_reply.started": "2021-11-16T07:08:15.160620Z"
    }
   },
   "outputs": [],
   "source": [
    "# Initialize TF-IDF vectorizer\n",
    "vectorizer = TfidfVectorizer(max_features=300)"
   ]
  },
  {
   "cell_type": "code",
   "execution_count": 23,
   "metadata": {
    "execution": {
     "iopub.execute_input": "2021-11-16T07:08:15.166861Z",
     "iopub.status.busy": "2021-11-16T07:08:15.166597Z",
     "iopub.status.idle": "2021-11-16T07:08:15.515816Z",
     "shell.execute_reply": "2021-11-16T07:08:15.514745Z",
     "shell.execute_reply.started": "2021-11-16T07:08:15.166820Z"
    },
    "id": "N13ZznTIfrdT"
   },
   "outputs": [
    {
     "name": "stdout",
     "output_type": "stream",
     "text": [
      "[nltk_data] Downloading package wordnet to /usr/share/nltk_data...\n",
      "[nltk_data]   Package wordnet is already up-to-date!\n"
     ]
    }
   ],
   "source": [
    "# Initialize the Lemmatizer\n",
    "nltk.download('wordnet') \n",
    "lemmatizer = WordNetLemmatizer()"
   ]
  },
  {
   "cell_type": "code",
   "execution_count": 24,
   "metadata": {
    "execution": {
     "iopub.execute_input": "2021-11-16T07:08:15.518955Z",
     "iopub.status.busy": "2021-11-16T07:08:15.518227Z",
     "iopub.status.idle": "2021-11-16T07:08:30.063221Z",
     "shell.execute_reply": "2021-11-16T07:08:30.062269Z",
     "shell.execute_reply.started": "2021-11-16T07:08:15.518906Z"
    },
    "id": "wjvDteKvX04z"
   },
   "outputs": [
    {
     "name": "stderr",
     "output_type": "stream",
     "text": [
      "100%|██████████| 41157/41157 [00:14<00:00, 2832.00it/s]\n"
     ]
    }
   ],
   "source": [
    "# Tokenize and lemmatize the tweets in training data\n",
    "train_X = []\n",
    "\n",
    "for tweet in tqdm(train_data[\"OriginalTweet\"]):\n",
    "    tokens = word_tokenize(tweet)\n",
    "    for i in range(len(tokens)):\n",
    "        tokens[i] = lemmatizer.lemmatize(tokens[i])\n",
    "    train_X.append(' '.join(tokens))\n"
   ]
  },
  {
   "cell_type": "code",
   "execution_count": 25,
   "metadata": {
    "execution": {
     "iopub.execute_input": "2021-11-16T07:08:30.064801Z",
     "iopub.status.busy": "2021-11-16T07:08:30.064561Z",
     "iopub.status.idle": "2021-11-16T07:08:31.311159Z",
     "shell.execute_reply": "2021-11-16T07:08:31.310320Z",
     "shell.execute_reply.started": "2021-11-16T07:08:30.064772Z"
    }
   },
   "outputs": [
    {
     "name": "stderr",
     "output_type": "stream",
     "text": [
      "100%|██████████| 3798/3798 [00:01<00:00, 3075.05it/s]\n"
     ]
    }
   ],
   "source": [
    "# Tokenize and lemmatize the tweets in the test data\n",
    "test_X = []\n",
    "\n",
    "for tweet in tqdm(test_data[\"OriginalTweet\"]):\n",
    "    tokens = word_tokenize(tweet)\n",
    "    for i in range(len(tokens)):\n",
    "        tokens[i] = lemmatizer.lemmatize(tokens[i])\n",
    "    test_X.append(' '.join(tokens))"
   ]
  },
  {
   "cell_type": "code",
   "execution_count": 26,
   "metadata": {
    "execution": {
     "iopub.execute_input": "2021-11-16T07:08:31.312485Z",
     "iopub.status.busy": "2021-11-16T07:08:31.312272Z",
     "iopub.status.idle": "2021-11-16T07:08:32.580186Z",
     "shell.execute_reply": "2021-11-16T07:08:32.579638Z",
     "shell.execute_reply.started": "2021-11-16T07:08:31.312459Z"
    }
   },
   "outputs": [
    {
     "name": "stdout",
     "output_type": "stream",
     "text": [
      "(41157, 300) (3798, 300)\n"
     ]
    }
   ],
   "source": [
    "# Encode the data using TF-IDF vectorizer\n",
    "encoded_train_X = vectorizer.fit_transform(train_X)\n",
    "encoded_test_X = vectorizer.transform(test_X)\n",
    "print(encoded_train_X.shape, encoded_test_X.shape)"
   ]
  },
  {
   "cell_type": "markdown",
   "metadata": {
    "id": "MRy74T-kITMR"
   },
   "source": [
    "## Model training"
   ]
  },
  {
   "cell_type": "markdown",
   "metadata": {
    "id": "Db1lnSqQL5Y5"
   },
   "source": [
    "#### The following machine learning models are trained using the vectorized data\n",
    "1. Multinomial Naive Bayes\n",
    "2. Decision Tree Classifier\n",
    "3. Random Forest Classifier\n",
    "4. XGBoost Classifier\n",
    "5. Extra Trees Classifier"
   ]
  },
  {
   "cell_type": "code",
   "execution_count": 27,
   "metadata": {
    "execution": {
     "iopub.execute_input": "2021-11-16T07:08:32.581521Z",
     "iopub.status.busy": "2021-11-16T07:08:32.581181Z",
     "iopub.status.idle": "2021-11-16T07:08:32.584880Z",
     "shell.execute_reply": "2021-11-16T07:08:32.584288Z",
     "shell.execute_reply.started": "2021-11-16T07:08:32.581494Z"
    }
   },
   "outputs": [],
   "source": [
    "# Place holders to store the results\n",
    "tfidf_accuracy = {}\n",
    "tfidf_f1 = {}"
   ]
  },
  {
   "cell_type": "code",
   "execution_count": 28,
   "metadata": {
    "execution": {
     "iopub.execute_input": "2021-11-16T07:08:32.589416Z",
     "iopub.status.busy": "2021-11-16T07:08:32.588971Z",
     "iopub.status.idle": "2021-11-16T07:08:32.774079Z",
     "shell.execute_reply": "2021-11-16T07:08:32.773018Z",
     "shell.execute_reply.started": "2021-11-16T07:08:32.589385Z"
    },
    "id": "2kRmNc3DT6J7"
   },
   "outputs": [
    {
     "name": "stdout",
     "output_type": "stream",
     "text": [
      "              precision    recall  f1-score   support\n",
      "\n",
      "           0       0.53      0.80      0.64      1546\n",
      "           1       0.66      0.57      0.61      1633\n",
      "           2       0.71      0.06      0.12       619\n",
      "\n",
      "    accuracy                           0.58      3798\n",
      "   macro avg       0.64      0.48      0.46      3798\n",
      "weighted avg       0.62      0.58      0.54      3798\n",
      "\n"
     ]
    }
   ],
   "source": [
    "# Train Multinomial Naive Bayes model\n",
    "model = MultinomialNB()\n",
    "model.fit(encoded_train_X, train_y)\n",
    "pred_y = model.predict(encoded_test_X)\n",
    "print(classification_report(test_y, pred_y))\n",
    "\n",
    "# Store results\n",
    "report = classification_report(test_y, pred_y, output_dict=True)\n",
    "tfidf_accuracy[\"MutinomialNB\"] = report[\"accuracy\"]\n",
    "tfidf_f1[\"MutinomialNB\"] = report[\"macro avg\"]['f1-score']"
   ]
  },
  {
   "cell_type": "code",
   "execution_count": 29,
   "metadata": {
    "execution": {
     "iopub.execute_input": "2021-11-16T07:08:32.775319Z",
     "iopub.status.busy": "2021-11-16T07:08:32.775095Z",
     "iopub.status.idle": "2021-11-16T07:08:49.420886Z",
     "shell.execute_reply": "2021-11-16T07:08:49.420025Z",
     "shell.execute_reply.started": "2021-11-16T07:08:32.775292Z"
    },
    "id": "2kRmNc3DT6J7"
   },
   "outputs": [
    {
     "name": "stdout",
     "output_type": "stream",
     "text": [
      "              precision    recall  f1-score   support\n",
      "\n",
      "           0       0.54      0.54      0.54      1546\n",
      "           1       0.58      0.54      0.56      1633\n",
      "           2       0.36      0.43      0.39       619\n",
      "\n",
      "    accuracy                           0.52      3798\n",
      "   macro avg       0.50      0.50      0.50      3798\n",
      "weighted avg       0.53      0.52      0.53      3798\n",
      "\n"
     ]
    }
   ],
   "source": [
    "# Train Decision Tree classifier model\n",
    "model = DecisionTreeClassifier(class_weight=class_weights)\n",
    "model.fit(encoded_train_X, train_y)\n",
    "pred_y = model.predict(encoded_test_X)\n",
    "print(classification_report(test_y, pred_y))\n",
    "\n",
    "# Store the results\n",
    "report = classification_report(test_y, pred_y, output_dict=True)\n",
    "tfidf_accuracy[\"DecisionTreeClassifier\"] = report[\"accuracy\"]\n",
    "tfidf_f1[\"DecisionTreeClassifier\"] = report[\"macro avg\"]['f1-score']"
   ]
  },
  {
   "cell_type": "code",
   "execution_count": 30,
   "metadata": {
    "execution": {
     "iopub.execute_input": "2021-11-16T07:08:49.422297Z",
     "iopub.status.busy": "2021-11-16T07:08:49.422049Z",
     "iopub.status.idle": "2021-11-16T07:10:46.277468Z",
     "shell.execute_reply": "2021-11-16T07:10:46.276629Z",
     "shell.execute_reply.started": "2021-11-16T07:08:49.422268Z"
    },
    "id": "2kRmNc3DT6J7"
   },
   "outputs": [
    {
     "name": "stdout",
     "output_type": "stream",
     "text": [
      "              precision    recall  f1-score   support\n",
      "\n",
      "           0       0.58      0.70      0.63      1546\n",
      "           1       0.66      0.58      0.62      1633\n",
      "           2       0.55      0.46      0.50       619\n",
      "\n",
      "    accuracy                           0.61      3798\n",
      "   macro avg       0.60      0.58      0.58      3798\n",
      "weighted avg       0.61      0.61      0.60      3798\n",
      "\n"
     ]
    }
   ],
   "source": [
    "# Train Random Forest Model\n",
    "model = RandomForestClassifier(class_weight=class_weights)\n",
    "model.fit(encoded_train_X, train_y)\n",
    "pred_y = model.predict(encoded_test_X)\n",
    "print(classification_report(test_y, pred_y))\n",
    "\n",
    "# Store the results\n",
    "report = classification_report(test_y, pred_y, output_dict=True)\n",
    "tfidf_accuracy[\"RandomForestClassifier\"] = report[\"accuracy\"]\n",
    "tfidf_f1[\"RandomForestClassifier\"] = report[\"macro avg\"]['f1-score']"
   ]
  },
  {
   "cell_type": "code",
   "execution_count": 31,
   "metadata": {
    "execution": {
     "iopub.execute_input": "2021-11-16T07:10:46.279223Z",
     "iopub.status.busy": "2021-11-16T07:10:46.278563Z",
     "iopub.status.idle": "2021-11-16T07:11:28.956843Z",
     "shell.execute_reply": "2021-11-16T07:11:28.956265Z",
     "shell.execute_reply.started": "2021-11-16T07:10:46.279160Z"
    },
    "id": "2kRmNc3DT6J7"
   },
   "outputs": [
    {
     "name": "stdout",
     "output_type": "stream",
     "text": [
      "[07:10:46] WARNING: ../src/learner.cc:1115: Starting in XGBoost 1.3.0, the default evaluation metric used with the objective 'multi:softprob' was changed from 'merror' to 'mlogloss'. Explicitly set eval_metric if you'd like to restore the old behavior.\n",
      "              precision    recall  f1-score   support\n",
      "\n",
      "           0       0.62      0.70      0.66      1546\n",
      "           1       0.69      0.61      0.65      1633\n",
      "           2       0.51      0.51      0.51       619\n",
      "\n",
      "    accuracy                           0.63      3798\n",
      "   macro avg       0.61      0.61      0.61      3798\n",
      "weighted avg       0.63      0.63      0.63      3798\n",
      "\n"
     ]
    }
   ],
   "source": [
    "# Train XGBoost Model\n",
    "model = XGBClassifier(use_label_encoder=False)\n",
    "model.fit(encoded_train_X, train_y)\n",
    "pred_y = model.predict(encoded_test_X)\n",
    "print(classification_report(test_y, pred_y))\n",
    "\n",
    "# Store the results\n",
    "report = classification_report(test_y, pred_y, output_dict=True)\n",
    "tfidf_accuracy[\"XGBClassifier\"] = report[\"accuracy\"]\n",
    "tfidf_f1[\"XGBClassifier\"] = report[\"macro avg\"]['f1-score']"
   ]
  },
  {
   "cell_type": "code",
   "execution_count": 32,
   "metadata": {
    "execution": {
     "iopub.execute_input": "2021-11-16T07:11:28.958044Z",
     "iopub.status.busy": "2021-11-16T07:11:28.957732Z",
     "iopub.status.idle": "2021-11-16T07:13:57.941711Z",
     "shell.execute_reply": "2021-11-16T07:13:57.940728Z",
     "shell.execute_reply.started": "2021-11-16T07:11:28.958018Z"
    }
   },
   "outputs": [
    {
     "name": "stdout",
     "output_type": "stream",
     "text": [
      "              precision    recall  f1-score   support\n",
      "\n",
      "           0       0.61      0.69      0.65      1546\n",
      "           1       0.66      0.63      0.64      1633\n",
      "           2       0.55      0.44      0.49       619\n",
      "\n",
      "    accuracy                           0.62      3798\n",
      "   macro avg       0.61      0.59      0.59      3798\n",
      "weighted avg       0.62      0.62      0.62      3798\n",
      "\n"
     ]
    }
   ],
   "source": [
    "# Train Extra Trees classifier model\n",
    "model = ExtraTreesClassifier(class_weight=class_weights)\n",
    "model.fit(encoded_train_X, train_y)\n",
    "pred_y = model.predict(encoded_test_X)\n",
    "print(classification_report(test_y, pred_y))\n",
    ", \n",
    "# Store the results\n",
    "report = classification_report(test_y, pred_y, output_dict=True)\n",
    "tfidf_accuracy[\"ExtraTreesClassifier\"] = report[\"accuracy\"]\n",
    "tfidf_f1[\"ExtraTreesClassifier\"] = report[\"macro avg\"]['f1-score']"
   ]
  },
  {
   "cell_type": "markdown",
   "metadata": {},
   "source": [
    "## Neural network training\n",
    "\n",
    "#### A simple neural network with one hidden layer is trained using the vectorized data"
   ]
  },
  {
   "cell_type": "code",
   "execution_count": 33,
   "metadata": {
    "execution": {
     "iopub.execute_input": "2021-11-16T07:13:57.943165Z",
     "iopub.status.busy": "2021-11-16T07:13:57.942930Z",
     "iopub.status.idle": "2021-11-16T07:13:58.145448Z",
     "shell.execute_reply": "2021-11-16T07:13:58.144702Z",
     "shell.execute_reply.started": "2021-11-16T07:13:57.943136Z"
    }
   },
   "outputs": [],
   "source": [
    "# Convert the data to tensors\n",
    "tensor_train_X = torch.tensor(encoded_train_X.toarray(), dtype=torch.float, device=device)\n",
    "tensor_test_X = torch.tensor(encoded_test_X.toarray(), dtype=torch.float, device=device)"
   ]
  },
  {
   "cell_type": "code",
   "execution_count": 34,
   "metadata": {
    "execution": {
     "iopub.execute_input": "2021-11-16T07:13:58.146869Z",
     "iopub.status.busy": "2021-11-16T07:13:58.146660Z",
     "iopub.status.idle": "2021-11-16T07:13:58.153354Z",
     "shell.execute_reply": "2021-11-16T07:13:58.152069Z",
     "shell.execute_reply.started": "2021-11-16T07:13:58.146845Z"
    }
   },
   "outputs": [],
   "source": [
    "class TfIdfClassifier(nn.Module):\n",
    "  \"\"\"\n",
    "  Covid tweet classifer for TF-IDF vectorized data\n",
    "  \"\"\"\n",
    "  def __init__(self, embedding_size, hidden_size=50, n_class=3):\n",
    "    \"\"\"\n",
    "    Intialize the hidden layers\n",
    "    \"\"\"\n",
    "    super().__init__()\n",
    "    self.fc = nn.Linear(embedding_size, hidden_size)\n",
    "    self.act = nn.ReLU()\n",
    "    self.out = nn.Linear(hidden_size, n_class)\n",
    "\n",
    "  def forward(self, data):\n",
    "    \"\"\"\n",
    "    Pass the input through the model and return the output tensor\n",
    "    \"\"\"\n",
    "    out = self.act(self.fc(data))\n",
    "    out = self.out(out)\n",
    "\n",
    "    return out"
   ]
  },
  {
   "cell_type": "code",
   "execution_count": 35,
   "metadata": {
    "execution": {
     "iopub.execute_input": "2021-11-16T07:13:58.155034Z",
     "iopub.status.busy": "2021-11-16T07:13:58.154468Z",
     "iopub.status.idle": "2021-11-16T07:13:58.186929Z",
     "shell.execute_reply": "2021-11-16T07:13:58.186307Z",
     "shell.execute_reply.started": "2021-11-16T07:13:58.154983Z"
    }
   },
   "outputs": [],
   "source": [
    "# Intialize the model, loss function and optimizer\n",
    "\n",
    "learning_rate = 0.001\n",
    "n_epochs = 100\n",
    "test_interval = 1\n",
    "\n",
    "classifier_tfidf = TfIdfClassifier(encoded_train_X.shape[1]).to(device)\n",
    "criterion = nn.CrossEntropyLoss(weight=torch.FloatTensor(list(class_weights.values())).to(device))\n",
    "optimizer = torch.optim.Adam(classifier_tfidf.parameters(), lr=learning_rate)"
   ]
  },
  {
   "cell_type": "code",
   "execution_count": 36,
   "metadata": {
    "execution": {
     "iopub.execute_input": "2021-11-16T07:13:58.188279Z",
     "iopub.status.busy": "2021-11-16T07:13:58.187859Z",
     "iopub.status.idle": "2021-11-16T07:15:40.720252Z",
     "shell.execute_reply": "2021-11-16T07:15:40.719335Z",
     "shell.execute_reply.started": "2021-11-16T07:13:58.188238Z"
    }
   },
   "outputs": [
    {
     "name": "stderr",
     "output_type": "stream",
     "text": [
      "Epoch:100 Training loss:0.91542 accuracy:0.57871 f1 score:0.56866: 100%|██████████| 100/100 [01:42<00:00,  1.03s/it]\n"
     ]
    }
   ],
   "source": [
    "# Placeholders to store model progress\n",
    "train_loss = []\n",
    "train_accuracy = []\n",
    "train_f1 = []\n",
    "test_loss = []\n",
    "test_accuracy = []\n",
    "test_f1 = []\n",
    "\n",
    "pbar = tqdm(range(1, n_epochs+1))\n",
    "for epoch in pbar:\n",
    "\n",
    "    ##########\n",
    "    # TRAINING\n",
    "    ##########\n",
    "\n",
    "    classifier_tfidf.train()\n",
    "    \n",
    "    # Get the model output\n",
    "    out = classifier_tfidf(tensor_train_X)\n",
    "    pred_values = torch.argmax(out, dim=1)\n",
    "\n",
    "    # Calculate the loss\n",
    "    loss = criterion(out, torch.tensor(train_y))\n",
    "    \n",
    "    # Store the training metrics\n",
    "    train_loss.append(loss.detach().item())\n",
    "    train_accuracy.append(accuracy_score(train_y, pred_values))\n",
    "    train_f1.append(f1_score(train_y, pred_values, average='macro'))\n",
    "    \n",
    "    # Update the model\n",
    "    loss.backward()\n",
    "    optimizer.step()\n",
    "    optimizer.zero_grad()\n",
    "\n",
    "    # print the progress\n",
    "    pbar.set_description(f\"Epoch:{epoch} Training loss:{round(train_loss[-1], 5)} \" +\n",
    "                                 f\"accuracy:{round(train_accuracy[-1], 5)} \" +\n",
    "                                 f\"f1 score:{round(train_f1[-1], 5)}\")\n",
    "      \n",
    "    \n",
    "    \n",
    "\n",
    "    ############\n",
    "    # VALIDATION\n",
    "    ############\n",
    "    if epoch % test_interval == 0:\n",
    "\n",
    "        classifier_tfidf.eval()\n",
    "        with torch.no_grad():\n",
    "            \n",
    "            # Get the model output\n",
    "            out = classifier_tfidf(tensor_test_X)\n",
    "            pred_values = torch.argmax(out, dim=1)\n",
    "\n",
    "            # Calculate the loss\n",
    "            loss = criterion(out, torch.tensor(test_y))\n",
    "            \n",
    "            # Store the test metrics\n",
    "            test_loss.append(loss.detach().item())\n",
    "            test_accuracy.append(accuracy_score(test_y, pred_values))\n",
    "            test_f1.append(f1_score(test_y, pred_values, average='macro'))\n"
   ]
  },
  {
   "cell_type": "markdown",
   "metadata": {
    "id": "wJJv2F7yOjnD"
   },
   "source": [
    "### Loss graph"
   ]
  },
  {
   "cell_type": "code",
   "execution_count": 37,
   "metadata": {
    "execution": {
     "iopub.execute_input": "2021-11-16T07:15:40.721672Z",
     "iopub.status.busy": "2021-11-16T07:15:40.721447Z",
     "iopub.status.idle": "2021-11-16T07:15:40.960772Z",
     "shell.execute_reply": "2021-11-16T07:15:40.960192Z",
     "shell.execute_reply.started": "2021-11-16T07:15:40.721646Z"
    },
    "id": "jRzpVl_O782V"
   },
   "outputs": [
    {
     "data": {
      "image/png": "[encoded data removed]",
      "text/plain": [
       "<Figure size 1440x360 with 1 Axes>"
      ]
     },
     "metadata": {
      "needs_background": "light"
     },
     "output_type": "display_data"
    }
   ],
   "source": [
    "train_epochs = list(range(1, n_epochs+1))\n",
    "test_epochs = list(range(test_interval, n_epochs+1, test_interval))\n",
    "plt.plot(train_epochs, train_loss, \"red\")\n",
    "plt.plot(test_epochs, test_loss, \"blue\")\n",
    "plt.legend([\"Training\", \"Validation\"])\n",
    "plt.xlabel(\"Epochs\")\n",
    "plt.ylabel(\"Loss\")\n",
    "plt.title(\"Epochs vs Loss\")\n",
    "plt.show()"
   ]
  },
  {
   "cell_type": "markdown",
   "metadata": {
    "id": "v1XA0YbMPW_x"
   },
   "source": [
    "### Accuracy graph"
   ]
  },
  {
   "cell_type": "code",
   "execution_count": 38,
   "metadata": {
    "execution": {
     "iopub.execute_input": "2021-11-16T07:15:40.962275Z",
     "iopub.status.busy": "2021-11-16T07:15:40.961606Z",
     "iopub.status.idle": "2021-11-16T07:15:41.203063Z",
     "shell.execute_reply": "2021-11-16T07:15:41.202091Z",
     "shell.execute_reply.started": "2021-11-16T07:15:40.962245Z"
    },
    "id": "DyPWIMMkO9Cd"
   },
   "outputs": [
    {
     "data": {
      "image/png": "[encoded data removed]",
      "text/plain": [
       "<Figure size 1440x360 with 1 Axes>"
      ]
     },
     "metadata": {
      "needs_background": "light"
     },
     "output_type": "display_data"
    }
   ],
   "source": [
    "train_epochs = list(range(1, n_epochs+1))\n",
    "test_epochs = list(range(test_interval, n_epochs+1, test_interval))\n",
    "plt.plot(train_epochs, train_accuracy, \"red\")\n",
    "plt.plot(test_epochs, test_accuracy, \"blue\")\n",
    "plt.legend([\"Training\", \"Validation\"])\n",
    "plt.xlabel(\"Epochs\")\n",
    "plt.ylabel(\"Accuracy\")\n",
    "plt.title(\"Epochs vs Accuracy\")\n",
    "plt.show()"
   ]
  },
  {
   "cell_type": "markdown",
   "metadata": {},
   "source": [
    "### F1 graph"
   ]
  },
  {
   "cell_type": "code",
   "execution_count": 39,
   "metadata": {
    "execution": {
     "iopub.execute_input": "2021-11-16T07:15:41.204428Z",
     "iopub.status.busy": "2021-11-16T07:15:41.204110Z",
     "iopub.status.idle": "2021-11-16T07:15:41.437579Z",
     "shell.execute_reply": "2021-11-16T07:15:41.436358Z",
     "shell.execute_reply.started": "2021-11-16T07:15:41.204396Z"
    },
    "id": "1caX9siSPAgE"
   },
   "outputs": [
    {
     "data": {
      "image/png": "[encoded data removed]",
      "text/plain": [
       "<Figure size 1440x360 with 1 Axes>"
      ]
     },
     "metadata": {
      "needs_background": "light"
     },
     "output_type": "display_data"
    }
   ],
   "source": [
    "train_epochs = list(range(1, n_epochs+1))\n",
    "test_epochs = list(range(test_interval, n_epochs+1, test_interval))\n",
    "plt.plot(train_epochs, train_f1, \"red\")\n",
    "plt.plot(test_epochs, test_f1, \"blue\")\n",
    "plt.legend([\"Training\", \"Validation\"])\n",
    "plt.xlabel(\"Epochs\")\n",
    "plt.ylabel(\"F1 score\")\n",
    "plt.title(\"Epochs vs F1 score\")\n",
    "plt.show()"
   ]
  },
  {
   "cell_type": "markdown",
   "metadata": {},
   "source": [
    "## Compare results of the model"
   ]
  },
  {
   "cell_type": "code",
   "execution_count": 40,
   "metadata": {
    "execution": {
     "iopub.execute_input": "2021-11-16T07:15:41.439682Z",
     "iopub.status.busy": "2021-11-16T07:15:41.438953Z",
     "iopub.status.idle": "2021-11-16T07:15:41.665118Z",
     "shell.execute_reply": "2021-11-16T07:15:41.664195Z",
     "shell.execute_reply.started": "2021-11-16T07:15:41.439644Z"
    }
   },
   "outputs": [
    {
     "data": {
      "image/png": "[encoded data removed]",
      "text/plain": [
       "<Figure size 1440x360 with 1 Axes>"
      ]
     },
     "metadata": {
      "needs_background": "light"
     },
     "output_type": "display_data"
    }
   ],
   "source": [
    "# Compare accuracy on test data\n",
    "labels = list(tfidf_accuracy.keys()) + [\"neural network\"]\n",
    "accuracy = list(tfidf_accuracy.values()) + [test_accuracy[-1]]\n",
    "plt.bar(labels, accuracy)\n",
    "plt.xlabel(\"Models\")\n",
    "plt.ylabel(\"Accuracy\")\n",
    "for idx, val in enumerate(accuracy):\n",
    "    plt.text(idx-0.1, val+0.005, str(round(val, 3)))\n",
    "plt.show()"
   ]
  },
  {
   "cell_type": "code",
   "execution_count": 41,
   "metadata": {
    "execution": {
     "iopub.execute_input": "2021-11-16T07:15:41.666431Z",
     "iopub.status.busy": "2021-11-16T07:15:41.666175Z",
     "iopub.status.idle": "2021-11-16T07:15:41.894977Z",
     "shell.execute_reply": "2021-11-16T07:15:41.894139Z",
     "shell.execute_reply.started": "2021-11-16T07:15:41.666403Z"
    }
   },
   "outputs": [
    {
     "data": {
      "image/png": "[encoded data removed]",
      "text/plain": [
       "<Figure size 1440x360 with 1 Axes>"
      ]
     },
     "metadata": {
      "needs_background": "light"
     },
     "output_type": "display_data"
    }
   ],
   "source": [
    "# Compare F1 scores on test data\n",
    "f1 = list(tfidf_f1.values()) + [test_f1[-1]]\n",
    "plt.bar(labels, f1)\n",
    "plt.xlabel(\"Models\")\n",
    "plt.ylabel(\"F1 score\")\n",
    "for idx, val in enumerate(f1):\n",
    "    plt.text(idx-0.1, val+0.005, str(round(val, 3)))\n",
    "plt.show()\n"
   ]
  },
  {
   "cell_type": "markdown",
   "metadata": {},
   "source": [
    "# Hashing Vectors"
   ]
  },
  {
   "cell_type": "markdown",
   "metadata": {},
   "source": [
    "### Data Vectorization\n",
    "\n",
    "#### Main Objective of this step is to convert the sequence to tokens to feature vector of fixed size\n",
    "\n",
    "The following steps are carried out\n",
    "1. The lemmatized sequence is vectorized using Hashing vectorizer\n",
    "\n",
    "We will obtain\n",
    "1. Vectorized training data of fixed size\n",
    "2. Vectorized test data of fixed size"
   ]
  },
  {
   "cell_type": "code",
   "execution_count": 42,
   "metadata": {
    "execution": {
     "iopub.execute_input": "2021-11-16T07:15:41.896360Z",
     "iopub.status.busy": "2021-11-16T07:15:41.896108Z",
     "iopub.status.idle": "2021-11-16T07:15:41.903666Z",
     "shell.execute_reply": "2021-11-16T07:15:41.902769Z",
     "shell.execute_reply.started": "2021-11-16T07:15:41.896330Z"
    }
   },
   "outputs": [],
   "source": [
    "# Initialize Hashing Vectorizer\n",
    "vectorizer = HashingVectorizer(n_features=300)"
   ]
  },
  {
   "cell_type": "code",
   "execution_count": 43,
   "metadata": {
    "execution": {
     "iopub.execute_input": "2021-11-16T07:15:41.905508Z",
     "iopub.status.busy": "2021-11-16T07:15:41.905137Z",
     "iopub.status.idle": "2021-11-16T07:15:42.810471Z",
     "shell.execute_reply": "2021-11-16T07:15:42.809628Z",
     "shell.execute_reply.started": "2021-11-16T07:15:41.905475Z"
    }
   },
   "outputs": [
    {
     "name": "stdout",
     "output_type": "stream",
     "text": [
      "(41157, 300) (3798, 300)\n"
     ]
    }
   ],
   "source": [
    "# Vectorize the sequence data\n",
    "encoded_train_X = vectorizer.fit_transform(train_X)\n",
    "encoded_test_X = vectorizer.transform(test_X)\n",
    "print(encoded_train_X.shape, encoded_test_X.shape)"
   ]
  },
  {
   "cell_type": "markdown",
   "metadata": {},
   "source": [
    "## Model Training"
   ]
  },
  {
   "cell_type": "markdown",
   "metadata": {},
   "source": [
    "#### The following machine learning models are trained using the vectorized data\n",
    "1. Decision Tree Classifier\n",
    "2. Random Forest Classifier\n",
    "3. XGBoost Classifier\n",
    "4. Extra Trees Classifier"
   ]
  },
  {
   "cell_type": "code",
   "execution_count": 44,
   "metadata": {
    "execution": {
     "iopub.execute_input": "2021-11-16T07:15:42.811951Z",
     "iopub.status.busy": "2021-11-16T07:15:42.811733Z",
     "iopub.status.idle": "2021-11-16T07:15:42.814950Z",
     "shell.execute_reply": "2021-11-16T07:15:42.814356Z",
     "shell.execute_reply.started": "2021-11-16T07:15:42.811924Z"
    }
   },
   "outputs": [],
   "source": [
    "# Place holders to store the results\n",
    "hash_accuracy = {}\n",
    "hash_f1 = {}"
   ]
  },
  {
   "cell_type": "code",
   "execution_count": 45,
   "metadata": {
    "execution": {
     "iopub.execute_input": "2021-11-16T07:15:42.816472Z",
     "iopub.status.busy": "2021-11-16T07:15:42.816285Z",
     "iopub.status.idle": "2021-11-16T07:16:09.688155Z",
     "shell.execute_reply": "2021-11-16T07:16:09.687153Z",
     "shell.execute_reply.started": "2021-11-16T07:15:42.816448Z"
    },
    "id": "2kRmNc3DT6J7"
   },
   "outputs": [
    {
     "name": "stdout",
     "output_type": "stream",
     "text": [
      "              precision    recall  f1-score   support\n",
      "\n",
      "           0       0.50      0.52      0.51      1546\n",
      "           1       0.52      0.47      0.50      1633\n",
      "           2       0.32      0.36      0.34       619\n",
      "\n",
      "    accuracy                           0.47      3798\n",
      "   macro avg       0.45      0.45      0.45      3798\n",
      "weighted avg       0.48      0.47      0.48      3798\n",
      "\n"
     ]
    }
   ],
   "source": [
    "# Train Decision Tree classifier model\n",
    "model = DecisionTreeClassifier(class_weight=class_weights)\n",
    "model.fit(encoded_train_X, train_y)\n",
    "pred_y = model.predict(encoded_test_X)\n",
    "print(classification_report(test_y, pred_y))\n",
    "\n",
    "# Store the results\n",
    "report = classification_report(test_y, pred_y, output_dict=True)\n",
    "hash_accuracy[\"DecisionTreeClassifier\"] = report[\"accuracy\"]\n",
    "hash_f1[\"DecisionTreeClassifier\"] = report[\"macro avg\"]['f1-score']"
   ]
  },
  {
   "cell_type": "code",
   "execution_count": 46,
   "metadata": {
    "execution": {
     "iopub.execute_input": "2021-11-16T07:16:09.689434Z",
     "iopub.status.busy": "2021-11-16T07:16:09.689193Z",
     "iopub.status.idle": "2021-11-16T07:18:57.022464Z",
     "shell.execute_reply": "2021-11-16T07:18:57.021428Z",
     "shell.execute_reply.started": "2021-11-16T07:16:09.689409Z"
    },
    "id": "2kRmNc3DT6J7"
   },
   "outputs": [
    {
     "name": "stdout",
     "output_type": "stream",
     "text": [
      "              precision    recall  f1-score   support\n",
      "\n",
      "           0       0.53      0.71      0.61      1546\n",
      "           1       0.63      0.50      0.56      1633\n",
      "           2       0.57      0.40      0.47       619\n",
      "\n",
      "    accuracy                           0.57      3798\n",
      "   macro avg       0.58      0.54      0.54      3798\n",
      "weighted avg       0.58      0.57      0.56      3798\n",
      "\n"
     ]
    }
   ],
   "source": [
    "# Train Random Forest Model\n",
    "model = RandomForestClassifier(class_weight=class_weights)\n",
    "model.fit(encoded_train_X, train_y)\n",
    "pred_y = model.predict(encoded_test_X)\n",
    "print(classification_report(test_y, pred_y))\n",
    "\n",
    "# Store the results\n",
    "report = classification_report(test_y, pred_y, output_dict=True)\n",
    "hash_accuracy[\"RandomForestClassifier\"] = report[\"accuracy\"]\n",
    "hash_f1[\"RandomForestClassifier\"] = report[\"macro avg\"]['f1-score']"
   ]
  },
  {
   "cell_type": "code",
   "execution_count": 47,
   "metadata": {
    "execution": {
     "iopub.execute_input": "2021-11-16T07:18:57.023923Z",
     "iopub.status.busy": "2021-11-16T07:18:57.023672Z",
     "iopub.status.idle": "2021-11-16T07:19:18.737165Z",
     "shell.execute_reply": "2021-11-16T07:19:18.736285Z",
     "shell.execute_reply.started": "2021-11-16T07:18:57.023894Z"
    },
    "id": "2kRmNc3DT6J7"
   },
   "outputs": [
    {
     "name": "stdout",
     "output_type": "stream",
     "text": [
      "[07:18:57] WARNING: ../src/learner.cc:1115: Starting in XGBoost 1.3.0, the default evaluation metric used with the objective 'multi:softprob' was changed from 'merror' to 'mlogloss'. Explicitly set eval_metric if you'd like to restore the old behavior.\n",
      "              precision    recall  f1-score   support\n",
      "\n",
      "           0       0.57      0.70      0.63      1546\n",
      "           1       0.65      0.57      0.61      1633\n",
      "           2       0.57      0.44      0.49       619\n",
      "\n",
      "    accuracy                           0.60      3798\n",
      "   macro avg       0.60      0.57      0.58      3798\n",
      "weighted avg       0.60      0.60      0.60      3798\n",
      "\n"
     ]
    }
   ],
   "source": [
    "# Train XGBoost Model\n",
    "model = XGBClassifier(use_label_encoder=False)\n",
    "model.fit(encoded_train_X, train_y)\n",
    "pred_y = model.predict(encoded_test_X)\n",
    "print(classification_report(test_y, pred_y))\n",
    "\n",
    "# Store the results\n",
    "report = classification_report(test_y, pred_y, output_dict=True)\n",
    "hash_accuracy[\"XGBClassifier\"] = report[\"accuracy\"]\n",
    "hash_f1[\"XGBClassifier\"] = report[\"macro avg\"]['f1-score']"
   ]
  },
  {
   "cell_type": "code",
   "execution_count": 48,
   "metadata": {
    "execution": {
     "iopub.execute_input": "2021-11-16T07:19:18.739164Z",
     "iopub.status.busy": "2021-11-16T07:19:18.738431Z",
     "iopub.status.idle": "2021-11-16T07:23:24.918788Z",
     "shell.execute_reply": "2021-11-16T07:23:24.917890Z",
     "shell.execute_reply.started": "2021-11-16T07:19:18.739120Z"
    }
   },
   "outputs": [
    {
     "name": "stdout",
     "output_type": "stream",
     "text": [
      "              precision    recall  f1-score   support\n",
      "\n",
      "           0       0.54      0.73      0.62      1546\n",
      "           1       0.64      0.52      0.58      1633\n",
      "           2       0.63      0.36      0.46       619\n",
      "\n",
      "    accuracy                           0.58      3798\n",
      "   macro avg       0.60      0.54      0.55      3798\n",
      "weighted avg       0.60      0.58      0.58      3798\n",
      "\n"
     ]
    }
   ],
   "source": [
    "# Train Extra trees classifier model\n",
    "model = ExtraTreesClassifier(class_weight=class_weights)\n",
    "model.fit(encoded_train_X, train_y)\n",
    "pred_y = model.predict(encoded_test_X)\n",
    "print(classification_report(test_y, pred_y))\n",
    "\n",
    "# Store the results\n",
    "report = classification_report(test_y, pred_y, output_dict=True)\n",
    "hash_accuracy[\"ExtraTreesClassifier\"] = report[\"accuracy\"]\n",
    "hash_f1[\"ExtraTreesClassifier\"] = report[\"macro avg\"]['f1-score']"
   ]
  },
  {
   "cell_type": "markdown",
   "metadata": {},
   "source": [
    "## Neural network training\n",
    "\n",
    "#### A simple neural network with one hidden layer is trained using the vectorized data"
   ]
  },
  {
   "cell_type": "code",
   "execution_count": 49,
   "metadata": {
    "execution": {
     "iopub.execute_input": "2021-11-16T07:23:24.920125Z",
     "iopub.status.busy": "2021-11-16T07:23:24.919876Z",
     "iopub.status.idle": "2021-11-16T07:23:25.101729Z",
     "shell.execute_reply": "2021-11-16T07:23:25.100856Z",
     "shell.execute_reply.started": "2021-11-16T07:23:24.920085Z"
    }
   },
   "outputs": [],
   "source": [
    "# Convert the vectors to tensors\n",
    "tensor_train_X = torch.tensor(encoded_train_X.toarray(), dtype=torch.float, device=device)\n",
    "tensor_test_X = torch.tensor(encoded_test_X.toarray(), dtype=torch.float, device=device)"
   ]
  },
  {
   "cell_type": "code",
   "execution_count": 50,
   "metadata": {
    "execution": {
     "iopub.execute_input": "2021-11-16T07:23:25.103513Z",
     "iopub.status.busy": "2021-11-16T07:23:25.103029Z",
     "iopub.status.idle": "2021-11-16T07:23:25.109626Z",
     "shell.execute_reply": "2021-11-16T07:23:25.109047Z",
     "shell.execute_reply.started": "2021-11-16T07:23:25.103474Z"
    }
   },
   "outputs": [],
   "source": [
    "class HashClassifier(nn.Module):\n",
    "  \"\"\"\n",
    "  Covid tweet classifer for Hash vectorized data\n",
    "  \"\"\"\n",
    "  def __init__(self, embedding_size, hidden_size=50, n_class=3):\n",
    "    \"\"\"\n",
    "    Intialize the hidden layers\n",
    "    \"\"\"\n",
    "    super().__init__()\n",
    "    self.fc = nn.Linear(embedding_size, hidden_size)\n",
    "    self.act = nn.ReLU()\n",
    "    self.out = nn.Linear(hidden_size, n_class)\n",
    "\n",
    "  def forward(self, data):\n",
    "    \"\"\"\n",
    "    Pass the input through the model and return the output tensor\n",
    "    \"\"\"\n",
    "    out = self.act(self.fc(data))\n",
    "    out = self.out(out)\n",
    "\n",
    "    return out"
   ]
  },
  {
   "cell_type": "code",
   "execution_count": 60,
   "metadata": {
    "execution": {
     "iopub.execute_input": "2021-11-16T07:28:19.194164Z",
     "iopub.status.busy": "2021-11-16T07:28:19.193880Z",
     "iopub.status.idle": "2021-11-16T07:28:19.201537Z",
     "shell.execute_reply": "2021-11-16T07:28:19.200647Z",
     "shell.execute_reply.started": "2021-11-16T07:28:19.194132Z"
    }
   },
   "outputs": [],
   "source": [
    "# Intialize the model, loss function and optimizer\n",
    "\n",
    "learning_rate = 0.001\n",
    "n_epochs = 100\n",
    "test_interval = 1\n",
    "\n",
    "classifier_hash = HashClassifier(encoded_train_X.shape[1]).to(device)\n",
    "criterion = nn.CrossEntropyLoss(weight=torch.FloatTensor(list(class_weights.values())).to(device))\n",
    "optimizer = torch.optim.Adam(classifier_hash.parameters(), lr=learning_rate)"
   ]
  },
  {
   "cell_type": "code",
   "execution_count": 61,
   "metadata": {
    "execution": {
     "iopub.execute_input": "2021-11-16T07:28:19.505618Z",
     "iopub.status.busy": "2021-11-16T07:28:19.504696Z",
     "iopub.status.idle": "2021-11-16T07:30:04.963236Z",
     "shell.execute_reply": "2021-11-16T07:30:04.962318Z",
     "shell.execute_reply.started": "2021-11-16T07:28:19.505562Z"
    }
   },
   "outputs": [
    {
     "name": "stderr",
     "output_type": "stream",
     "text": [
      "Epoch:100 Training loss:0.96752 accuracy:0.53031 f1 score:0.52063: 100%|██████████| 100/100 [01:45<00:00,  1.05s/it]\n"
     ]
    }
   ],
   "source": [
    "# Placeholders to store model progress\n",
    "train_loss = []\n",
    "train_accuracy = []\n",
    "train_f1 = []\n",
    "test_loss = []\n",
    "test_accuracy = []\n",
    "test_f1 = []\n",
    "\n",
    "pbar = tqdm(range(1, n_epochs+1))\n",
    "for epoch in pbar:\n",
    "\n",
    "    ##########\n",
    "    # TRAINING\n",
    "    ##########\n",
    "\n",
    "    classifier_hash.train()\n",
    "    \n",
    "    # Get the model output\n",
    "    out = classifier_hash(tensor_train_X)\n",
    "    pred_values = torch.argmax(out, dim=1)\n",
    "\n",
    "    # Calculate the loss\n",
    "    loss = criterion(out, torch.tensor(train_y))\n",
    "    \n",
    "    # Store the training metrics\n",
    "    train_loss.append(loss.detach().item())\n",
    "    train_accuracy.append(accuracy_score(train_y, pred_values))\n",
    "    train_f1.append(f1_score(train_y, pred_values, average='macro'))\n",
    "    \n",
    "    # Update the model\n",
    "    loss.backward()\n",
    "    optimizer.step()\n",
    "    optimizer.zero_grad()\n",
    "\n",
    "    # print the progress\n",
    "    pbar.set_description(f\"Epoch:{epoch} Training loss:{round(train_loss[-1], 5)} \" +\n",
    "                                 f\"accuracy:{round(train_accuracy[-1], 5)} \" +\n",
    "                                 f\"f1 score:{round(train_f1[-1], 5)}\")\n",
    "      \n",
    "    \n",
    "    \n",
    "\n",
    "    ############\n",
    "    # VALIDATION\n",
    "    ############\n",
    "    if epoch % test_interval == 0:\n",
    "\n",
    "        classifier_tfidf.eval()\n",
    "        with torch.no_grad():\n",
    "            \n",
    "            # Get the model output\n",
    "            out = classifier_hash(tensor_test_X)\n",
    "            pred_values = torch.argmax(out, dim=1)\n",
    "\n",
    "            # Calculate the loss\n",
    "            loss = criterion(out, torch.tensor(test_y))\n",
    "            \n",
    "            # Store the test metrics\n",
    "            test_loss.append(loss.detach().item())\n",
    "            test_accuracy.append(accuracy_score(test_y, pred_values))\n",
    "            test_f1.append(f1_score(test_y, pred_values, average='macro'))"
   ]
  },
  {
   "cell_type": "markdown",
   "metadata": {
    "id": "wJJv2F7yOjnD"
   },
   "source": [
    "### Loss graph"
   ]
  },
  {
   "cell_type": "code",
   "execution_count": 62,
   "metadata": {
    "execution": {
     "iopub.execute_input": "2021-11-16T07:30:04.965807Z",
     "iopub.status.busy": "2021-11-16T07:30:04.965006Z",
     "iopub.status.idle": "2021-11-16T07:30:05.206934Z",
     "shell.execute_reply": "2021-11-16T07:30:05.206021Z",
     "shell.execute_reply.started": "2021-11-16T07:30:04.965759Z"
    },
    "id": "jRzpVl_O782V"
   },
   "outputs": [
    {
     "data": {
      "image/png": "[encoded data removed]",
      "text/plain": [
       "<Figure size 1440x360 with 1 Axes>"
      ]
     },
     "metadata": {
      "needs_background": "light"
     },
     "output_type": "display_data"
    }
   ],
   "source": [
    "train_epochs = list(range(1, n_epochs+1))\n",
    "test_epochs = list(range(test_interval, n_epochs+1, test_interval))\n",
    "plt.plot(train_epochs, train_loss, \"red\")\n",
    "plt.plot(test_epochs, test_loss, \"blue\")\n",
    "plt.legend([\"Training\", \"Validation\"])\n",
    "plt.xlabel(\"Epochs\")\n",
    "plt.ylabel(\"Loss\")\n",
    "plt.title(\"Epochs vs Loss\")\n",
    "plt.show()"
   ]
  },
  {
   "cell_type": "markdown",
   "metadata": {
    "id": "v1XA0YbMPW_x"
   },
   "source": [
    "### Accuracy graph"
   ]
  },
  {
   "cell_type": "code",
   "execution_count": 63,
   "metadata": {
    "execution": {
     "iopub.execute_input": "2021-11-16T07:30:05.208771Z",
     "iopub.status.busy": "2021-11-16T07:30:05.208531Z",
     "iopub.status.idle": "2021-11-16T07:30:05.445108Z",
     "shell.execute_reply": "2021-11-16T07:30:05.444040Z",
     "shell.execute_reply.started": "2021-11-16T07:30:05.208745Z"
    },
    "id": "DyPWIMMkO9Cd"
   },
   "outputs": [
    {
     "data": {
      "image/png": "[encoded data removed]",
      "text/plain": [
       "<Figure size 1440x360 with 1 Axes>"
      ]
     },
     "metadata": {
      "needs_background": "light"
     },
     "output_type": "display_data"
    }
   ],
   "source": [
    "train_epochs = list(range(1, n_epochs+1))\n",
    "test_epochs = list(range(test_interval, n_epochs+1, test_interval))\n",
    "plt.plot(train_epochs, train_accuracy, \"red\")\n",
    "plt.plot(test_epochs, test_accuracy, \"blue\")\n",
    "plt.legend([\"Training\", \"Validation\"])\n",
    "plt.xlabel(\"Epochs\")\n",
    "plt.ylabel(\"Accuracy\")\n",
    "plt.title(\"Epochs vs Accuracy\")\n",
    "plt.show()"
   ]
  },
  {
   "cell_type": "markdown",
   "metadata": {},
   "source": [
    "### F1 graph"
   ]
  },
  {
   "cell_type": "code",
   "execution_count": 64,
   "metadata": {
    "execution": {
     "iopub.execute_input": "2021-11-16T07:30:05.447097Z",
     "iopub.status.busy": "2021-11-16T07:30:05.446888Z",
     "iopub.status.idle": "2021-11-16T07:30:05.696895Z",
     "shell.execute_reply": "2021-11-16T07:30:05.695910Z",
     "shell.execute_reply.started": "2021-11-16T07:30:05.447072Z"
    },
    "id": "1caX9siSPAgE"
   },
   "outputs": [
    {
     "data": {
      "image/png": "[encoded data removed]",
      "text/plain": [
       "<Figure size 1440x360 with 1 Axes>"
      ]
     },
     "metadata": {
      "needs_background": "light"
     },
     "output_type": "display_data"
    }
   ],
   "source": [
    "train_epochs = list(range(1, n_epochs+1))\n",
    "test_epochs = list(range(test_interval, n_epochs+1, test_interval))\n",
    "plt.plot(train_epochs, train_f1, \"red\")\n",
    "plt.plot(test_epochs, test_f1, \"blue\")\n",
    "plt.legend([\"Training\", \"Validation\"])\n",
    "plt.xlabel(\"Epochs\")\n",
    "plt.ylabel(\"F1 score\")\n",
    "plt.title(\"Epochs vs F1 score\")\n",
    "plt.show()"
   ]
  },
  {
   "cell_type": "markdown",
   "metadata": {},
   "source": [
    "## Compare results of the model"
   ]
  },
  {
   "cell_type": "code",
   "execution_count": 65,
   "metadata": {
    "execution": {
     "iopub.execute_input": "2021-11-16T07:30:05.698288Z",
     "iopub.status.busy": "2021-11-16T07:30:05.698039Z",
     "iopub.status.idle": "2021-11-16T07:30:05.923120Z",
     "shell.execute_reply": "2021-11-16T07:30:05.922218Z",
     "shell.execute_reply.started": "2021-11-16T07:30:05.698256Z"
    }
   },
   "outputs": [
    {
     "data": {
      "image/png": "[encoded data removed]",
      "text/plain": [
       "<Figure size 1440x360 with 1 Axes>"
      ]
     },
     "metadata": {
      "needs_background": "light"
     },
     "output_type": "display_data"
    }
   ],
   "source": [
    "# Compare accuracy on test data\n",
    "labels = list(hash_accuracy.keys()) + [\"neural network\"]\n",
    "accuracy = list(hash_accuracy.values()) + [test_accuracy[-1]]\n",
    "plt.bar(labels, accuracy)\n",
    "plt.xlabel(\"Models\")\n",
    "plt.ylabel(\"Accuracy\")\n",
    "for idx, val in enumerate(accuracy):\n",
    "    plt.text(idx-0.1, val+0.005, str(round(val, 3)))\n",
    "plt.show()"
   ]
  },
  {
   "cell_type": "code",
   "execution_count": 66,
   "metadata": {
    "execution": {
     "iopub.execute_input": "2021-11-16T07:30:05.924491Z",
     "iopub.status.busy": "2021-11-16T07:30:05.924242Z",
     "iopub.status.idle": "2021-11-16T07:30:06.147106Z",
     "shell.execute_reply": "2021-11-16T07:30:06.146196Z",
     "shell.execute_reply.started": "2021-11-16T07:30:05.924458Z"
    }
   },
   "outputs": [
    {
     "data": {
      "image/png": "[encoded data removed]",
      "text/plain": [
       "<Figure size 1440x360 with 1 Axes>"
      ]
     },
     "metadata": {
      "needs_background": "light"
     },
     "output_type": "display_data"
    }
   ],
   "source": [
    "# Compare F1 Score on test data\n",
    "f1 = list(hash_f1.values()) + [test_f1[-1]]\n",
    "plt.bar(labels, f1)\n",
    "plt.xlabel(\"Models\")\n",
    "plt.ylabel(\"F1 score\")\n",
    "for idx, val in enumerate(f1):\n",
    "    plt.text(idx-0.1, val+0.005, str(round(val, 3)))\n",
    "plt.show()\n"
   ]
  },
  {
   "cell_type": "markdown",
   "metadata": {
    "id": "sHYHievgheht"
   },
   "source": [
    "## CONCLUSION\n",
    "\n",
    "1. The models trained above are just baseline models. We need to train a more complex model to get better performance.\n",
    "2. TF-IDF vectors and Hashing vectors does not contain enough data to learn the context.\n",
    "3. The number of samples of neutral class is very less hence it is likely that the model will not perform well on neutral samples.\n",
    "4. We need to use better embedding techniques like GloVe and Word2Vec which can capture more features.\n",
    "5. A more complex model is required to obtain better results. A model with embedding layer followed by LSTM would be an appropriate network to train this data."
   ]
  },
  {
   "cell_type": "code",
   "execution_count": null,
   "metadata": {},
   "outputs": [],
   "source": []
  }
 ],
 "metadata": {
  "kernelspec": {
   "display_name": "Python 3",
   "language": "python",
   "name": "python3"
  },
  "language_info": {
   "codemirror_mode": {
    "name": "ipython",
    "version": 3
   },
   "file_extension": ".py",
   "mimetype": "text/x-python",
   "name": "python",
   "nbconvert_exporter": "python",
   "pygments_lexer": "ipython3",
   "version": "3.6.8"
  }
 },
 "nbformat": 4,
 "nbformat_minor": 4
}
